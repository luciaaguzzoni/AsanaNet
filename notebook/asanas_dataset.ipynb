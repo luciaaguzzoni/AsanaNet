{
 "cells": [
  {
   "cell_type": "markdown",
   "id": "b54fabed-9294-48a5-8ead-c9aaa7e69d05",
   "metadata": {},
   "source": [
    "## Libraries"
   ]
  },
  {
   "cell_type": "code",
   "execution_count": 104,
   "id": "82128c76-8bcb-4563-b7cb-60126076d258",
   "metadata": {},
   "outputs": [],
   "source": [
    "import pandas as pd\n",
    "import os\n",
    "import time\n",
    "import requests\n",
    "import time"
   ]
  },
  {
   "cell_type": "code",
   "execution_count": 36,
   "id": "dc02bea5-0ed2-4dc6-a35f-e522153d28d4",
   "metadata": {},
   "outputs": [],
   "source": [
    "from selenium import webdriver\n",
    "from selenium.webdriver.common.keys import Keys\n",
    "from selenium.webdriver.common.by import By\n",
    "from selenium.webdriver.support.ui import WebDriverWait\n",
    "from selenium.webdriver.support import expected_conditions as EC\n",
    "from selenium import webdriver\n",
    "from selenium.webdriver.support.ui import Select\n",
    "from selenium import webdriver\n",
    "\n",
    "from bs4 import BeautifulSoup\n",
    "import re"
   ]
  },
  {
   "cell_type": "markdown",
   "id": "43a4a7b1-05a2-4297-a952-3258a9fec78b",
   "metadata": {
    "jp-MarkdownHeadingCollapsed": true
   },
   "source": [
    "## create dataframe with positions name"
   ]
  },
  {
   "cell_type": "code",
   "execution_count": 5,
   "id": "0ac8904c-d3b2-4222-9636-06f2bf479a31",
   "metadata": {},
   "outputs": [],
   "source": [
    "def get_folders_in_directory(directory_path):\n",
    "    # Get the list of all files and folders in the specified directory\n",
    "    items = os.listdir(directory_path)\n",
    "    # Filter out only the folders from the list\n",
    "    folders = [item for item in items if os.path.isdir(os.path.join(directory_path, item))]\n",
    "    return folders"
   ]
  },
  {
   "cell_type": "code",
   "execution_count": 8,
   "id": "a2cbe207-aa14-477d-8566-6a0dc3835216",
   "metadata": {},
   "outputs": [],
   "source": [
    "base_dir = '../data/dataset'\n",
    "asana_names_list = get_folders_in_directory(base_dir)"
   ]
  },
  {
   "cell_type": "code",
   "execution_count": null,
   "id": "3f42f6d8-3aeb-4bdb-9267-180fad96173c",
   "metadata": {},
   "outputs": [],
   "source": [
    "eng_names = pd.read_csv(\"../data/asana_names.csv\")\n",
    "eng_names.sammple()"
   ]
  },
  {
   "cell_type": "code",
   "execution_count": 6,
   "id": "a92621e7-d9bc-48ed-91f7-ef93f14a3fb5",
   "metadata": {
    "scrolled": true
   },
   "outputs": [],
   "source": [
    "df = pd.DataFrame(position_df)"
   ]
  },
  {
   "cell_type": "code",
   "execution_count": 57,
   "id": "f4417fbb-41ba-47e7-9bf8-346e528ad29f",
   "metadata": {},
   "outputs": [],
   "source": [
    "df.to_csv(\"../data/yoga_poses.csv\",index=False)"
   ]
  },
  {
   "cell_type": "code",
   "execution_count": null,
   "id": "237dce2c-c7b5-4e5e-8d92-e8937511252b",
   "metadata": {},
   "outputs": [],
   "source": []
  },
  {
   "cell_type": "code",
   "execution_count": null,
   "id": "57501d11-0809-47a8-8ef2-943345597962",
   "metadata": {},
   "outputs": [],
   "source": []
  },
  {
   "cell_type": "code",
   "execution_count": null,
   "id": "a8faab70-e176-467e-813b-7b5755798910",
   "metadata": {},
   "outputs": [],
   "source": []
  },
  {
   "cell_type": "markdown",
   "id": "74d99e7b-87fc-48e2-b5ac-fdccecbd8186",
   "metadata": {},
   "source": [
    "## Building dataset"
   ]
  },
  {
   "cell_type": "code",
   "execution_count": 37,
   "id": "467e974a-2fe9-4587-bf09-0a44e9f4eeda",
   "metadata": {
    "scrolled": true
   },
   "outputs": [],
   "source": [
    "df = pd.read_csv(\"../data/yoga_poses.csv\")\n",
    "my_asanas = [el.title() for el in list(df[\"Name\"])]"
   ]
  },
  {
   "cell_type": "code",
   "execution_count": null,
   "id": "8c4944fd-8fb1-40d0-857e-751168e5748b",
   "metadata": {},
   "outputs": [],
   "source": []
  },
  {
   "cell_type": "markdown",
   "id": "92a7055d-59c3-4833-a851-566224540938",
   "metadata": {},
   "source": [
    "#### Selenium"
   ]
  },
  {
   "cell_type": "markdown",
   "id": "c5a63b94-9d33-46bd-bf4e-203a53e25559",
   "metadata": {
    "jp-MarkdownHeadingCollapsed": true
   },
   "source": [
    "###### Scratching"
   ]
  },
  {
   "cell_type": "code",
   "execution_count": 6,
   "id": "83a066c2-99be-4bf1-8bb3-8c633c9c36a6",
   "metadata": {},
   "outputs": [],
   "source": [
    "url = \"https://www.yogapedia.com/yoga-poses#\""
   ]
  },
  {
   "cell_type": "code",
   "execution_count": 151,
   "id": "9369a94d-240a-4637-b05b-12eb4f0986af",
   "metadata": {},
   "outputs": [],
   "source": [
    "driver = webdriver.Chrome()"
   ]
  },
  {
   "cell_type": "code",
   "execution_count": 152,
   "id": "3f9fe1e1-65a9-4d73-a29b-74662bf26a4d",
   "metadata": {},
   "outputs": [],
   "source": [
    "driver.get(url)"
   ]
  },
  {
   "cell_type": "code",
   "execution_count": 166,
   "id": "a2007543-dfaa-4a5e-97ae-ec41347b2c0e",
   "metadata": {},
   "outputs": [],
   "source": [
    "driver.refresh()"
   ]
  },
  {
   "cell_type": "code",
   "execution_count": 118,
   "id": "ba78c5c5-772e-467b-8f0e-e2b3979b70fc",
   "metadata": {},
   "outputs": [],
   "source": [
    "driver.back()"
   ]
  },
  {
   "cell_type": "code",
   "execution_count": null,
   "id": "5cebb1a0-3e70-4716-9c10-75268863328f",
   "metadata": {},
   "outputs": [],
   "source": []
  },
  {
   "cell_type": "code",
   "execution_count": 10,
   "id": "5b8651d5-8ec4-420f-92c9-0ff122755d20",
   "metadata": {},
   "outputs": [],
   "source": [
    "#html = requests.get(\"\").content\n",
    "html = driver.execute_script(\"return document.body.outerHTML;\")\n",
    "soup = BeautifulSoup(html, \"html.parser\")"
   ]
  },
  {
   "cell_type": "code",
   "execution_count": 81,
   "id": "85b28888-27a3-43db-bb8d-078d1e2e2642",
   "metadata": {},
   "outputs": [
    {
     "data": {
      "text/plain": [
       "'Uttanasana'"
      ]
     },
     "execution_count": 81,
     "metadata": {},
     "output_type": "execute_result"
    }
   ],
   "source": [
    "asana_name = soup.find_all(\"div\", {\"class\":\"headline\"})[0].getText().split(\"\\n\")[-2]\n",
    "asana_name"
   ]
  },
  {
   "cell_type": "code",
   "execution_count": 112,
   "id": "c281a2ef-7f00-43de-90fc-aed15d845522",
   "metadata": {},
   "outputs": [
    {
     "data": {
      "text/plain": [
       "'Standing Forward Bend'"
      ]
     },
     "execution_count": 112,
     "metadata": {},
     "output_type": "execute_result"
    }
   ],
   "source": [
    "eng_name = soup.find_all(\"div\", {\"class\":\"headline\"})[0].getText().split(\"\\n\")[1]\n",
    "eng_name"
   ]
  },
  {
   "cell_type": "code",
   "execution_count": 154,
   "id": "b8f226c3-06b5-4b3c-b7a2-daf8f7424bbd",
   "metadata": {},
   "outputs": [
    {
     "name": "stderr",
     "output_type": "stream",
     "text": [
      "C:\\Users\\lucia\\AppData\\Local\\Temp\\ipykernel_16852\\3418368152.py:2: DeprecationWarning: The 'text' argument to find()-type methods is deprecated. Use 'string' instead.\n",
      "  level = soup2.find('dt', text='Pose Level').find_next('dd').getText()\n"
     ]
    },
    {
     "data": {
      "text/plain": [
       "'Beginner'"
      ]
     },
     "execution_count": 154,
     "metadata": {},
     "output_type": "execute_result"
    }
   ],
   "source": [
    "soup2 = soup.find_all(\"div\",{\"class\":\"details\"})[0]\n",
    "level = soup2.find('dt', text='Pose Level').find_next('dd').getText()\n",
    "level"
   ]
  },
  {
   "cell_type": "code",
   "execution_count": 155,
   "id": "4e84ee6f-d6a3-4a0f-96b9-a478ecdefa30",
   "metadata": {},
   "outputs": [
    {
     "name": "stderr",
     "output_type": "stream",
     "text": [
      "C:\\Users\\lucia\\AppData\\Local\\Temp\\ipykernel_16852\\459004118.py:1: DeprecationWarning: The 'text' argument to find()-type methods is deprecated. Use 'string' instead.\n",
      "  level = soup.find_all(\"div\",{\"class\":\"details\"})[0].find('dt', text='Pose Level').find_next('dd').getText()\n"
     ]
    },
    {
     "data": {
      "text/plain": [
       "'Beginner'"
      ]
     },
     "execution_count": 155,
     "metadata": {},
     "output_type": "execute_result"
    }
   ],
   "source": [
    "level = soup.find_all(\"div\",{\"class\":\"details\"})[0].find('dt', text='Pose Level').find_next('dd').getText()\n",
    "level"
   ]
  },
  {
   "cell_type": "code",
   "execution_count": 19,
   "id": "8c8ccf14-8c0a-4125-88a0-204cc56125de",
   "metadata": {},
   "outputs": [
    {
     "name": "stderr",
     "output_type": "stream",
     "text": [
      "C:\\Users\\lucia\\AppData\\Local\\Temp\\ipykernel_2780\\3809315316.py:1: DeprecationWarning: The 'text' argument to find()-type methods is deprecated. Use 'string' instead.\n",
      "  soup.find_all(\"div\",{\"class\":\"details\"})[0].find('dt', text='Drishti').find_next('dd').getText().split('(')[-1][:-1]\n"
     ]
    },
    {
     "data": {
      "text/plain": [
       "'Tip of the toes'"
      ]
     },
     "execution_count": 19,
     "metadata": {},
     "output_type": "execute_result"
    }
   ],
   "source": [
    "drishti = soup.find_all(\"div\",{\"class\":\"details\"})[0].find('dt', text='Drishti').find_next('dd').getText().split('(')[-1][:-1]"
   ]
  },
  {
   "cell_type": "code",
   "execution_count": 101,
   "id": "cc5126df-b101-4d93-a65e-fda9504f0076",
   "metadata": {},
   "outputs": [
    {
     "name": "stderr",
     "output_type": "stream",
     "text": [
      "C:\\Users\\lucia\\AppData\\Local\\Temp\\ipykernel_16852\\1321862182.py:1: DeprecationWarning: The 'text' argument to find()-type methods is deprecated. Use 'string' instead.\n",
      "  pose_type = soup2.find('dt', text='Pose Type').find_next('dd').getText()\n"
     ]
    },
    {
     "data": {
      "text/plain": [
       "'Forward Bends, Standing Poses'"
      ]
     },
     "execution_count": 101,
     "metadata": {},
     "output_type": "execute_result"
    }
   ],
   "source": [
    "pose_type = soup2.find('dt', text='Pose Type').find_next('dd').getText()\n",
    "pose_type"
   ]
  },
  {
   "cell_type": "code",
   "execution_count": 39,
   "id": "14c6944e-bda1-451b-8d98-3f129c5b625a",
   "metadata": {},
   "outputs": [
    {
     "name": "stderr",
     "output_type": "stream",
     "text": [
      "C:\\Users\\lucia\\AppData\\Local\\Temp\\ipykernel_2780\\2206358622.py:2: DeprecationWarning: The 'text' argument to find()-type methods is deprecated. Use 'string' instead.\n",
      "  soup3.find(\"h3\", text=\"Instructions\").find_next()\n"
     ]
    },
    {
     "data": {
      "text/plain": [
       "<ul><li>Stand in mountain pose with your feet hip distance apart and your hands on your hips.</li><li>Deeply exhale while you bend forward, hinging at the hips with knees bent slightly.</li><li>Using both hands, reach to the floor touching palms or fingertips near your feet. Or bend your arms at the elbows and take hold of each elbow with the opposite hand.</li><li>Deeply inhale in the pose to lift and lengthen your upper body, then exhale to bend and release further.</li><li>After you hang in the pose for a minute, bring your hands back to your hips, inhale and lift your upper body all the way back up.</li></ul>"
      ]
     },
     "execution_count": 39,
     "metadata": {},
     "output_type": "execute_result"
    }
   ],
   "source": [
    "soup3 = soup.find_all(\"div\", {\"class\":\"description\"})[0]\n",
    "soup3.find(\"h3\", text=\"Instructions\").find_next()"
   ]
  },
  {
   "cell_type": "code",
   "execution_count": 44,
   "id": "9c3dd943-3f3e-4cfc-8191-17bdb7ed7bf4",
   "metadata": {},
   "outputs": [
    {
     "name": "stderr",
     "output_type": "stream",
     "text": [
      "C:\\Users\\lucia\\AppData\\Local\\Temp\\ipykernel_2780\\3766193533.py:1: DeprecationWarning: The 'text' argument to find()-type methods is deprecated. Use 'string' instead.\n",
      "  cautions = soup.find_all(\"div\", {\"class\":\"description\"})[0].find(\"h3\", text=\"Cautions\").find_next().find_all('li')\n"
     ]
    },
    {
     "data": {
      "text/plain": [
       "['Keep your knees slightly bent.',\n",
       " 'Keep your hips aligned.',\n",
       " 'Try to avoid rounding the spine.']"
      ]
     },
     "execution_count": 44,
     "metadata": {},
     "output_type": "execute_result"
    }
   ],
   "source": [
    "cautions = soup.find_all(\"div\", {\"class\":\"description\"})[0].find(\"h3\", text=\"Cautions\").find_next().find_all('li')\n",
    "cautions = [el.getText() for el in cautions]\n",
    "cautions"
   ]
  },
  {
   "cell_type": "code",
   "execution_count": 45,
   "id": "27b84e5a-5b59-476e-bd4c-96f7d8ef2756",
   "metadata": {},
   "outputs": [
    {
     "name": "stderr",
     "output_type": "stream",
     "text": [
      "C:\\Users\\lucia\\AppData\\Local\\Temp\\ipykernel_2780\\3854390827.py:1: DeprecationWarning: The 'text' argument to find()-type methods is deprecated. Use 'string' instead.\n",
      "  benefits = soup.find_all(\"div\", {\"class\":\"description\"})[0].find(\"h3\", text=re.compile(r'^Benefits.*')).find_next().find_all('li')\n"
     ]
    },
    {
     "data": {
      "text/plain": [
       "['Lengthens the hamstrings and calves',\n",
       " 'Strengthens the thighs',\n",
       " 'Reduces fatigue']"
      ]
     },
     "execution_count": 45,
     "metadata": {},
     "output_type": "execute_result"
    }
   ],
   "source": [
    "benefits = soup.find_all(\"div\", {\"class\":\"description\"})[0].find(\"h3\", text=re.compile(r'^Benefits.*')).find_next().find_all('li')\n",
    "benefits = [el.getText() for el in benefits]\n",
    "benefits"
   ]
  },
  {
   "cell_type": "code",
   "execution_count": null,
   "id": "99013f90-8373-418f-b4d5-4318f75c7871",
   "metadata": {},
   "outputs": [],
   "source": []
  },
  {
   "cell_type": "code",
   "execution_count": null,
   "id": "917d87cb-382d-4b51-ab3d-262e1bda2162",
   "metadata": {},
   "outputs": [],
   "source": []
  },
  {
   "cell_type": "code",
   "execution_count": 203,
   "id": "92473d6b-8d6d-4da9-b80d-44fe0b6a6ada",
   "metadata": {},
   "outputs": [],
   "source": [
    "url = \"https://www.yogapedia.com/yoga-poses#\""
   ]
  },
  {
   "cell_type": "code",
   "execution_count": 204,
   "id": "3c1a4d78-afcc-4dee-9d66-54a71af94cd7",
   "metadata": {},
   "outputs": [],
   "source": [
    "driver = webdriver.Chrome()"
   ]
  },
  {
   "cell_type": "code",
   "execution_count": 205,
   "id": "875ec3f9-1019-4ba0-8b02-4fface166971",
   "metadata": {},
   "outputs": [],
   "source": [
    "driver.get(url)"
   ]
  },
  {
   "cell_type": "code",
   "execution_count": 206,
   "id": "c9c0b1bd-8c9c-4522-8ada-3f3a5da5bb10",
   "metadata": {},
   "outputs": [],
   "source": [
    "html = driver.execute_script(\"return document.body.outerHTML;\")\n",
    "soup = BeautifulSoup(html, \"html.parser\")"
   ]
  },
  {
   "cell_type": "code",
   "execution_count": 223,
   "id": "8be22458-5e79-494f-96c3-90a3279f4e7d",
   "metadata": {},
   "outputs": [],
   "source": [
    "all_positions = soup.find_all(\"div\", {\"id\":\"yoga-positions-wrapper\"})[0].find_all(\"ul\", {\"id\":\"yoga-positions-listing\"})[0].find_all(\"li\",{\"class\":\"item-card shown\"})"
   ]
  },
  {
   "cell_type": "code",
   "execution_count": 224,
   "id": "0ffb5af1-3b05-4c52-8b85-ac474029eccb",
   "metadata": {},
   "outputs": [],
   "source": [
    "url1 = \"https://www.yogapedia.com\" + all_positions[0].find_all(\"div\",{\"class\":\"position-card\"})[0].find_all(\"a\",{\"class\":\"pic\"})[0][\"href\"]"
   ]
  },
  {
   "cell_type": "code",
   "execution_count": 225,
   "id": "44cfb057-6154-44c1-ab3f-2fbfe07a5df2",
   "metadata": {},
   "outputs": [
    {
     "data": {
      "text/plain": [
       "'https://www.yogapedia.com/yoga-poses/standing-forward-bend/11/9800'"
      ]
     },
     "execution_count": 225,
     "metadata": {},
     "output_type": "execute_result"
    }
   ],
   "source": [
    "url1"
   ]
  },
  {
   "cell_type": "code",
   "execution_count": 192,
   "id": "821ee8e1-6c8e-4610-ae16-ac78af54786c",
   "metadata": {},
   "outputs": [],
   "source": [
    "driver.get(url1)"
   ]
  },
  {
   "cell_type": "code",
   "execution_count": null,
   "id": "da1afbcb-a756-4e68-b589-7362a2a3eb08",
   "metadata": {},
   "outputs": [],
   "source": []
  },
  {
   "cell_type": "code",
   "execution_count": null,
   "id": "ba356aca-15b9-4507-9da3-2bd817ec6b67",
   "metadata": {},
   "outputs": [],
   "source": []
  },
  {
   "cell_type": "code",
   "execution_count": null,
   "id": "b8599723-ce94-44b5-9285-2bef086db3e4",
   "metadata": {},
   "outputs": [],
   "source": []
  },
  {
   "cell_type": "markdown",
   "id": "4ddff904-44b3-4f56-abc4-a2638403e097",
   "metadata": {},
   "source": [
    "###### functions"
   ]
  },
  {
   "cell_type": "code",
   "execution_count": 228,
   "id": "c7727bd9-8bd6-4b58-8072-74809d80379b",
   "metadata": {},
   "outputs": [],
   "source": [
    "def get_url(soup):\n",
    "    s2 = soup.find_all(\"div\",{\"class\":\"position-card\"})[0].find_all(\"a\",{\"class\":\"pic\"})[0]\n",
    "    return \"https://www.yogapedia.com\" + s2[\"href\"]"
   ]
  },
  {
   "cell_type": "code",
   "execution_count": 226,
   "id": "b7cc8901-92b5-4d72-8b2b-9f3658b4bef1",
   "metadata": {},
   "outputs": [],
   "source": [
    "def get_all_url():\n",
    "    url_list = []\n",
    "    driver = webdriver.Chrome()\n",
    "    driver.get(\"https://www.yogapedia.com/yoga-poses#\")\n",
    "    html = driver.execute_script(\"return document.body.outerHTML;\")\n",
    "    soup = BeautifulSoup(html, \"html.parser\")\n",
    "    all_positions = soup.find_all(\"div\", {\"id\":\"yoga-positions-wrapper\"})[0].find_all(\"ul\", {\"id\":\"yoga-positions-listing\"})[0].find_all(\"li\",{\"class\":\"item-card shown\"})\n",
    "    for el in all_positions:\n",
    "        url = get_url(el)\n",
    "        url_list.append(url)\n",
    "    return url_list"
   ]
  },
  {
   "cell_type": "code",
   "execution_count": 195,
   "id": "f60b2d60-78e6-4cd5-9bca-a4a94f4ec4fc",
   "metadata": {},
   "outputs": [],
   "source": [
    "def get_asana_info(asana_list,driver):\n",
    "    d={}\n",
    "    html = driver.execute_script(\"return document.body.outerHTML;\")\n",
    "    soup = BeautifulSoup(html, \"html.parser\")\n",
    "\n",
    "    asana_name = soup.find_all(\"div\", {\"class\":\"headline\"})[0].getText().split(\"\\n\")[-2]\n",
    "    if asana_name in asana_list:\n",
    "        print(f\"{asana_name} si\")\n",
    "        d[\"asana_name\"]=asana_name\n",
    "        name = soup.find_all(\"div\", {\"class\":\"headline\"})[0].getText().split(\"\\n\")[1]\n",
    "        d[\"eng_name\"]= name\n",
    "        level = soup.find_all(\"div\",{\"class\":\"details\"})[0].find('dt', text='Pose Level').find_next('dd').getText()\n",
    "        d[\"level\"]=level\n",
    "        pose_type = soup.find_all(\"div\",{\"class\":\"details\"})[0].find('dt', text='Pose Type').find_next('dd').getText()\n",
    "        d[\"pose_type\"]=pose_type\n",
    "        instructions = soup.find_all(\"div\", {\"class\":\"description\"})[0].find(\"h3\", text=\"Instructions\").find_next().getText()\n",
    "        d[\"instructions\"]=instructions\n",
    "        drishti = soup.find_all(\"div\",{\"class\":\"details\"})[0].find('dt', text='Drishti').find_next('dd').getText().split('(')[-1][:-1]\n",
    "        d[\"drishti\"]=drishti\n",
    "        cautions = soup.find_all(\"div\", {\"class\":\"description\"})[0].find(\"h3\", text=\"Cautions\").find_next().find_all('li')\n",
    "        cautions = [el.getText() for el in cautions]\n",
    "        d[\"cautions\"] = cautions\n",
    "        benefits = soup.find_all(\"div\", {\"class\":\"description\"})[0].find(\"h3\", text=re.compile(r'^Benefits.*')).find_next().find_all('li')\n",
    "        benefits = [el.getText() for el in benefits]\n",
    "        d[\"benefits\"]=benefits\n",
    "    else:\n",
    "        print(f\"{asana_name} no\")\n",
    "    return d           \n"
   ]
  },
  {
   "cell_type": "code",
   "execution_count": 198,
   "id": "e6f76d13-5c7b-49aa-bf2a-a4552ab81227",
   "metadata": {},
   "outputs": [],
   "source": [
    "def get_all_asanas_info(asana_list):\n",
    "    \n",
    "    url_list = get_all_url()\n",
    "    all_poses = []\n",
    "\n",
    "    for el in url_list:\n",
    "\n",
    "        driver = webdriver.Chrome()\n",
    "        driver.get(el)\n",
    "\n",
    "        d = get_asana_info(asana_list,driver)\n",
    "        if d!={}:\n",
    "            all_poses.append(d) \n",
    "\n",
    "    return all_poses "
   ]
  },
  {
   "cell_type": "code",
   "execution_count": 229,
   "id": "b4cc6f38-ed49-4101-8dcf-336e935102da",
   "metadata": {},
   "outputs": [
    {
     "name": "stdout",
     "output_type": "stream",
     "text": [
      "Uttanasana si\n"
     ]
    },
    {
     "name": "stderr",
     "output_type": "stream",
     "text": [
      "C:\\Users\\lucia\\AppData\\Local\\Temp\\ipykernel_13224\\3690202880.py:12: DeprecationWarning: The 'text' argument to find()-type methods is deprecated. Use 'string' instead.\n",
      "  level = soup.find_all(\"div\",{\"class\":\"details\"})[0].find('dt', text='Pose Level').find_next('dd').getText()\n",
      "C:\\Users\\lucia\\AppData\\Local\\Temp\\ipykernel_13224\\3690202880.py:14: DeprecationWarning: The 'text' argument to find()-type methods is deprecated. Use 'string' instead.\n",
      "  pose_type = soup.find_all(\"div\",{\"class\":\"details\"})[0].find('dt', text='Pose Type').find_next('dd').getText()\n",
      "C:\\Users\\lucia\\AppData\\Local\\Temp\\ipykernel_13224\\3690202880.py:16: DeprecationWarning: The 'text' argument to find()-type methods is deprecated. Use 'string' instead.\n",
      "  instructions = soup.find_all(\"div\", {\"class\":\"description\"})[0].find(\"h3\", text=\"Instructions\").find_next().getText()\n",
      "C:\\Users\\lucia\\AppData\\Local\\Temp\\ipykernel_13224\\3690202880.py:18: DeprecationWarning: The 'text' argument to find()-type methods is deprecated. Use 'string' instead.\n",
      "  drishti = soup.find_all(\"div\",{\"class\":\"details\"})[0].find('dt', text='Drishti').find_next('dd').getText().split('(')[-1][:-1]\n",
      "C:\\Users\\lucia\\AppData\\Local\\Temp\\ipykernel_13224\\3690202880.py:20: DeprecationWarning: The 'text' argument to find()-type methods is deprecated. Use 'string' instead.\n",
      "  cautions = soup.find_all(\"div\", {\"class\":\"description\"})[0].find(\"h3\", text=\"Cautions\").find_next().find_all('li')\n",
      "C:\\Users\\lucia\\AppData\\Local\\Temp\\ipykernel_13224\\3690202880.py:23: DeprecationWarning: The 'text' argument to find()-type methods is deprecated. Use 'string' instead.\n",
      "  benefits = soup.find_all(\"div\", {\"class\":\"description\"})[0].find(\"h3\", text=re.compile(r'^Benefits.*')).find_next().find_all('li')\n"
     ]
    },
    {
     "name": "stdout",
     "output_type": "stream",
     "text": [
      "Utthita Trikonasana si\n",
      "Viparita Karani si\n",
      "Utkatasana si\n",
      "Adho Mukha Svanasana si\n",
      "Navasana no\n",
      "Dhanurasana si\n",
      "Bhujangasana si\n",
      "Savasana si\n",
      "Tadasana si\n",
      "Paschimottanasana si\n",
      "Salamba Sirsasana si\n",
      "Vajrasana si\n",
      "Salabhasana si\n",
      "Gomukhasana si\n",
      "Ashwa Sanchalanasana no\n",
      "Utthan Pristhasana no\n",
      "Padmasana si\n",
      "Halasana si\n",
      "Parivrtta Trikonasana si\n",
      "Vrksasana no\n",
      "Chakrasana no\n",
      "Ustrasana si\n",
      "Sukhasana si\n",
      "Bhadrasana no\n",
      "Ardha Chandrasana si\n",
      "Sarvangasana no\n",
      "Utthita Tadasana no\n",
      "Virabhadrasana no\n",
      "Baddha Konasana si\n",
      "Ardha Navasana no\n",
      "Virasana no\n",
      "Supta Virasana si\n",
      "Paripurna Matsyendrasana no\n",
      "Marichyasana no\n",
      "Parivrtta Parsvakonasana si\n",
      "Prasarita Padottanasana si\n",
      "Marjaryasana si\n",
      "Bitilasana si\n",
      "Bharadvajasana si\n",
      "Makara Adho Mukha Svanasana si\n",
      "Ardha Pincha Mayurasana si\n",
      "Agnistambhasana si\n",
      "Garudasana si\n",
      "Balasana si\n",
      "Bakasana si\n",
      "Natarajasana si\n",
      "Ardha Bhekasana si\n",
      "Eka Pada Rajakapotasana A si\n",
      "Vajra Kapotasana no\n",
      "Vasishtasana no\n",
      "Salamba Bhujangasana si\n",
      "Camatkarasana si\n",
      "Matsayasana no\n",
      "Supta Baddha Konasana si\n",
      "Supta Padangusthasana si\n",
      "Pavanmuktasana no\n",
      "Parivrtta Ardha Chandrasana no\n",
      "Supta Matsyendrasana si\n",
      "Parivrtta Adho Mukha Svanasana no\n",
      "Namaskar Parsvakonasana no\n",
      "Sucirandhrasana no\n",
      "Parivrtta Utkatasana no\n",
      "Padangusthasana no\n",
      "Setu Bandha Sarvangasana si\n",
      "Balasana si\n",
      "Astavakrasana si\n",
      "Utthita Hasta Padangusthasana no\n",
      "Uttana Shishosana si\n",
      "Utthita Parsvakonasana si\n",
      "Pincha Mayurasana si\n",
      "Tittibhasana si\n",
      "Chaturanga Dandasana si\n",
      "Malasana si\n",
      "Parighasana si\n",
      "Ardha Matsyendrasana si\n",
      "Adho Mukha Vrksasana no\n",
      "Janu Sirsasana A no\n",
      "Krounchasana si\n",
      "Utthita Ashwa Sanchalanasana si\n",
      "Ashta Chandrasana no\n",
      "Parsvottanasana si\n",
      "Anjaneyasana si\n",
      "Hanumanasana si\n",
      "Pasasana si\n",
      "Eka Pada Rajakapotasana B si\n",
      "Mayurasana si\n",
      "Kapotasana si\n",
      "Kumbhakasana no\n",
      "Koundinyasana A no\n",
      "Koundinyasana B no\n",
      "Marichi's Pose B no\n",
      "Marichyasana C si\n",
      "Marichi's Pose D no\n",
      "Parivrtta Janu Sirsasana si\n",
      "Virabhadrasana B si\n",
      "Virabhadrasana 3 no\n",
      "Shanti Virabhadrasana no\n",
      "Simhasana si\n",
      "Chatushpadasana no\n",
      "Meru vakrasana no\n",
      "No noted Sanskrit name. no\n",
      "Sarpasana no\n",
      "Tiryaka tadasana no\n",
      "Salamba vasisthasana no\n",
      "Shashankasana no\n",
      "Ashwanasana no\n",
      "Ardha sirsasana no\n",
      "Virabhadrasana 1 no\n",
      "Parivrtta sukhasana no\n",
      "Padma mayurasana no\n",
      "Parsva bhuja dandasana no\n",
      "Svarga dvijasana no\n",
      "Mandalasana no\n",
      "Anjaneyasana si\n",
      "Apanasana no\n",
      "Ashtanga namaskara no\n",
      "Dandasana si\n",
      "Eka pada paripurna vrschikasana no\n",
      "Hindolasana no\n",
      "Ardha ananda balasana no\n",
      "Marjaryasana-bitilasana no\n",
      "Parsva bakasana no\n",
      "Ardha purvottanasana no\n",
      "Mandukasana no\n",
      "Parsva garbhasana no\n",
      "Uttanasana si\n",
      "Urdhva mukha svanasana no\n",
      "Eka pada galavasana no\n",
      "Kakasana no\n",
      "Utthan pristhasana no\n",
      "Baddha viparita kurmasana no\n",
      "Kurmasana si\n",
      "Akarna dhanurasana no\n",
      "Shashankasana no\n",
      "Ardha hanumanasana no\n",
      "Parivrtta utkatasana no\n",
      "Eka pada rajakapotasana no\n",
      "Adho mukha kapotasana no\n",
      "Ardha chakrasana no\n",
      "Ardhah ustrasana no\n",
      "Viparita shalabhasana no\n",
      "Supta kapotasana no\n",
      "Parivrtta kapotasana no\n",
      "Malasana si\n",
      "Anjaneyasana si\n",
      "Vrschikasana no\n",
      "Utpluti dandasana no\n",
      "Virabhadrasana 3 no\n",
      "Adho mukha vrksasana no\n",
      "Purvottanasana si\n",
      "Ardha bhujangasana no\n",
      "Ardha pavanamuktasana no\n",
      "Dwi pada viparita dandasana no\n",
      "Parivrtta anjaneyasana no\n",
      "Padangustha dhanurasana no\n",
      "Dandayamana janu sirsasana no\n",
      "Dandayamna baddha konasana no\n",
      "Pasasana si\n",
      "Tadasana gomukhasana no\n",
      "Parivrtta hasta padangusthasana no\n",
      "Ubhaya padangusthasana no\n",
      "Parsva bhuja dandasana no\n",
      "Sayanasana no\n"
     ]
    }
   ],
   "source": [
    "asanas = get_all_asanas_info(my_asanas)"
   ]
  },
  {
   "cell_type": "code",
   "execution_count": 232,
   "id": "cab95b01-98c9-4acc-bbf0-a968c93b598f",
   "metadata": {},
   "outputs": [],
   "source": [
    "asanas_df = pd.DataFrame(asanas)"
   ]
  },
  {
   "cell_type": "code",
   "execution_count": 234,
   "id": "96a93bc0-012a-455b-9fca-dd73a2636661",
   "metadata": {},
   "outputs": [],
   "source": [
    "asanas_df.sort_values(by='asana_name',inplace=True)"
   ]
  },
  {
   "cell_type": "code",
   "execution_count": 238,
   "id": "59ced2c3-edbd-49a9-9535-9f8cb5d1c427",
   "metadata": {},
   "outputs": [
    {
     "name": "stdout",
     "output_type": "stream",
     "text": [
      "['Adho Mukha Svanasana', 'Agnistambhasana', 'Anjaneyasana', 'Anjaneyasana', 'Anjaneyasana', 'Ardha Bhekasana', 'Ardha Chandrasana', 'Ardha Matsyendrasana', 'Ardha Pincha Mayurasana', 'Astavakrasana', 'Baddha Konasana', 'Bakasana', 'Balasana', 'Balasana', 'Bharadvajasana', 'Bhujangasana', 'Bitilasana', 'Camatkarasana', 'Chaturanga Dandasana', 'Dandasana', 'Dhanurasana', 'Eka Pada Rajakapotasana A', 'Eka Pada Rajakapotasana B', 'Garudasana', 'Gomukhasana', 'Halasana', 'Hanumanasana', 'Kapotasana', 'Krounchasana', 'Kurmasana', 'Makara Adho Mukha Svanasana', 'Malasana', 'Malasana', 'Marichyasana C', 'Marjaryasana', 'Mayurasana', 'Natarajasana', 'Padmasana', 'Parighasana', 'Parivrtta Janu Sirsasana', 'Parivrtta Parsvakonasana', 'Parivrtta Trikonasana', 'Parsvottanasana', 'Pasasana', 'Pasasana', 'Paschimottanasana', 'Pincha Mayurasana', 'Prasarita Padottanasana', 'Purvottanasana', 'Salabhasana', 'Salamba Bhujangasana', 'Salamba Sirsasana', 'Savasana', 'Setu Bandha Sarvangasana', 'Simhasana', 'Sukhasana', 'Supta Baddha Konasana', 'Supta Matsyendrasana', 'Supta Padangusthasana', 'Supta Virasana', 'Tadasana', 'Tittibhasana', 'Ustrasana', 'Utkatasana', 'Uttana Shishosana', 'Uttanasana', 'Uttanasana', 'Utthita Ashwa Sanchalanasana', 'Utthita Parsvakonasana', 'Utthita Trikonasana', 'Vajrasana', 'Viparita Karani', 'Virabhadrasana B']\n"
     ]
    }
   ],
   "source": [
    "print(list(asanas_df['asana_name']))"
   ]
  },
  {
   "cell_type": "code",
   "execution_count": null,
   "id": "479ac29e-b426-4641-80b3-bc43d9f2cabb",
   "metadata": {},
   "outputs": [],
   "source": [
    "# ripetuta\n",
    "# Anjaneyasana (crescent moon pose-low lunge)\n",
    "# balasana (child's pose) --> ananda balasana (happy baby pose)\n",
    "# malasana (solo garland pose)\n",
    "# pasasana (solo Bound Revolved Squatting Toe Balance)\n",
    "# uttanasana (bo ragdoll pose)\n",
    "\n",
    "# (solo la prima maiuscola)\n",
    "# Ashtanga namaskara\n",
    "# Dwi pada viparita dandasana\n",
    "# Parsva bakasana\n",
    "# Urdhva mukha svanasana\n",
    "\n",
    "# missing: (13)\n",
    "# anantasana\n",
    "# ardha uttanasana\n",
    "# bhairavasana\n",
    "# bhujapidasana\n",
    "# durvasasana\n",
    "# ganda bherundasana\n",
    "# garbha pindasana\n",
    "# makarasana\n",
    "# phalakasana (low plank)\n",
    "# tolasana\n",
    "# upavistha konasana\n",
    "# urdhva prasarita eka padasana\n",
    "# yoganidrasana"
   ]
  }
 ],
 "metadata": {
  "kernelspec": {
   "display_name": "Python 3 (ipykernel)",
   "language": "python",
   "name": "python3"
  },
  "language_info": {
   "codemirror_mode": {
    "name": "ipython",
    "version": 3
   },
   "file_extension": ".py",
   "mimetype": "text/x-python",
   "name": "python",
   "nbconvert_exporter": "python",
   "pygments_lexer": "ipython3",
   "version": "3.11.4"
  }
 },
 "nbformat": 4,
 "nbformat_minor": 5
}
