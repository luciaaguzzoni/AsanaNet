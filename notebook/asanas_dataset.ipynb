{
 "cells": [
  {
   "cell_type": "markdown",
   "id": "b54fabed-9294-48a5-8ead-c9aaa7e69d05",
   "metadata": {},
   "source": [
    "## Libraries"
   ]
  },
  {
   "cell_type": "code",
   "execution_count": 105,
   "id": "82128c76-8bcb-4563-b7cb-60126076d258",
   "metadata": {},
   "outputs": [],
   "source": [
    "import pandas as pd\n",
    "import os\n",
    "import time\n",
    "import requests\n",
    "import time"
   ]
  },
  {
   "cell_type": "code",
   "execution_count": 106,
   "id": "dc02bea5-0ed2-4dc6-a35f-e522153d28d4",
   "metadata": {},
   "outputs": [],
   "source": [
    "from selenium import webdriver\n",
    "from selenium.webdriver.common.keys import Keys\n",
    "from selenium.webdriver.common.by import By\n",
    "from selenium.webdriver.support.ui import WebDriverWait\n",
    "from selenium.webdriver.support import expected_conditions as EC\n",
    "from selenium import webdriver\n",
    "from selenium.webdriver.support.ui import Select\n",
    "from selenium import webdriver\n",
    "\n",
    "from bs4 import BeautifulSoup\n",
    "import re"
   ]
  },
  {
   "cell_type": "markdown",
   "id": "43a4a7b1-05a2-4297-a952-3258a9fec78b",
   "metadata": {
    "jp-MarkdownHeadingCollapsed": true
   },
   "source": [
    "## create dataframe with positions name"
   ]
  },
  {
   "cell_type": "code",
   "execution_count": 102,
   "id": "a2cbe207-aa14-477d-8566-6a0dc3835216",
   "metadata": {},
   "outputs": [],
   "source": [
    "base_dir = '../data/dataset'\n",
    "asana_names_list = get_folders_in_directory(base_dir)"
   ]
  },
  {
   "cell_type": "code",
   "execution_count": 103,
   "id": "a92621e7-d9bc-48ed-91f7-ef93f14a3fb5",
   "metadata": {
    "scrolled": true
   },
   "outputs": [
    {
     "data": {
      "text/html": [
       "<div>\n",
       "<style scoped>\n",
       "    .dataframe tbody tr th:only-of-type {\n",
       "        vertical-align: middle;\n",
       "    }\n",
       "\n",
       "    .dataframe tbody tr th {\n",
       "        vertical-align: top;\n",
       "    }\n",
       "\n",
       "    .dataframe thead th {\n",
       "        text-align: right;\n",
       "    }\n",
       "</style>\n",
       "<table border=\"1\" class=\"dataframe\">\n",
       "  <thead>\n",
       "    <tr style=\"text-align: right;\">\n",
       "      <th></th>\n",
       "      <th>Name</th>\n",
       "    </tr>\n",
       "  </thead>\n",
       "  <tbody>\n",
       "    <tr>\n",
       "      <th>0</th>\n",
       "      <td>adho mukha svanasana</td>\n",
       "    </tr>\n",
       "    <tr>\n",
       "      <th>1</th>\n",
       "      <td>adho mukha vrksasana</td>\n",
       "    </tr>\n",
       "    <tr>\n",
       "      <th>2</th>\n",
       "      <td>agnistambhasana</td>\n",
       "    </tr>\n",
       "    <tr>\n",
       "      <th>3</th>\n",
       "      <td>ananda balasana</td>\n",
       "    </tr>\n",
       "    <tr>\n",
       "      <th>4</th>\n",
       "      <td>anjaneyasana</td>\n",
       "    </tr>\n",
       "    <tr>\n",
       "      <th>...</th>\n",
       "      <td>...</td>\n",
       "    </tr>\n",
       "    <tr>\n",
       "      <th>79</th>\n",
       "      <td>virabhadrasana</td>\n",
       "    </tr>\n",
       "    <tr>\n",
       "      <th>80</th>\n",
       "      <td>virabhadrasana 3</td>\n",
       "    </tr>\n",
       "    <tr>\n",
       "      <th>81</th>\n",
       "      <td>virabhadrasana b</td>\n",
       "    </tr>\n",
       "    <tr>\n",
       "      <th>82</th>\n",
       "      <td>vrksasana</td>\n",
       "    </tr>\n",
       "    <tr>\n",
       "      <th>83</th>\n",
       "      <td>vrschikasana</td>\n",
       "    </tr>\n",
       "  </tbody>\n",
       "</table>\n",
       "<p>84 rows × 1 columns</p>\n",
       "</div>"
      ],
      "text/plain": [
       "                    Name\n",
       "0   adho mukha svanasana\n",
       "1   adho mukha vrksasana\n",
       "2        agnistambhasana\n",
       "3        ananda balasana\n",
       "4           anjaneyasana\n",
       "..                   ...\n",
       "79        virabhadrasana\n",
       "80      virabhadrasana 3\n",
       "81      virabhadrasana b\n",
       "82             vrksasana\n",
       "83          vrschikasana\n",
       "\n",
       "[84 rows x 1 columns]"
      ]
     },
     "execution_count": 103,
     "metadata": {},
     "output_type": "execute_result"
    }
   ],
   "source": [
    "df = pd.DataFrame({\"Name\":asana_names_list})\n",
    "df"
   ]
  },
  {
   "cell_type": "code",
   "execution_count": 104,
   "id": "f4417fbb-41ba-47e7-9bf8-346e528ad29f",
   "metadata": {},
   "outputs": [],
   "source": [
    "df.to_csv(\"../data/yoga_poses.csv\",index=False)"
   ]
  },
  {
   "cell_type": "code",
   "execution_count": null,
   "id": "57501d11-0809-47a8-8ef2-943345597962",
   "metadata": {},
   "outputs": [],
   "source": []
  },
  {
   "cell_type": "code",
   "execution_count": null,
   "id": "a8faab70-e176-467e-813b-7b5755798910",
   "metadata": {},
   "outputs": [],
   "source": []
  },
  {
   "cell_type": "markdown",
   "id": "74d99e7b-87fc-48e2-b5ac-fdccecbd8186",
   "metadata": {},
   "source": [
    "## Building dataset"
   ]
  },
  {
   "cell_type": "code",
   "execution_count": 124,
   "id": "467e974a-2fe9-4587-bf09-0a44e9f4eeda",
   "metadata": {
    "scrolled": true
   },
   "outputs": [],
   "source": [
    "df = pd.read_csv(\"../data/yoga_poses.csv\")"
   ]
  },
  {
   "cell_type": "code",
   "execution_count": 125,
   "id": "87824f3a-3e3b-4b82-a9b7-090df3cf9c26",
   "metadata": {},
   "outputs": [],
   "source": [
    "def change_names(x):\n",
    "    if x == \"ashtanga namaskara\":\n",
    "        return \"Ashtanga namaskara\"\n",
    "    elif x == \"dwi pada viparita dandasana\":\n",
    "        return \"Dwi pada viparita dandasana\"\n",
    "    elif x==\"parsva bakasana\":\n",
    "        return \"Parsva bakasana\"\n",
    "    elif x == \"urdhva mukha svanasana\":\n",
    "        return \"Urdhva mukha svanasana\"\n",
    "    elif x == \"phalakasana\":\n",
    "        return \"Kumbhakasana\"\n",
    "    else:\n",
    "        return x.title()"
   ]
  },
  {
   "cell_type": "code",
   "execution_count": 126,
   "id": "b5dda004-f791-47a6-a394-5ac711dd9d15",
   "metadata": {},
   "outputs": [],
   "source": [
    "df[\"Name\"] = df[\"Name\"].apply(change_names)"
   ]
  },
  {
   "cell_type": "code",
   "execution_count": 127,
   "id": "789ed732-612a-44dd-a4b0-15e16e43f41d",
   "metadata": {},
   "outputs": [],
   "source": [
    "my_asanas = list(df[\"Name\"])"
   ]
  },
  {
   "cell_type": "markdown",
   "id": "92a7055d-59c3-4833-a851-566224540938",
   "metadata": {},
   "source": [
    "#### Selenium"
   ]
  },
  {
   "cell_type": "markdown",
   "id": "c5a63b94-9d33-46bd-bf4e-203a53e25559",
   "metadata": {
    "jp-MarkdownHeadingCollapsed": true
   },
   "source": [
    "##### Scratching"
   ]
  },
  {
   "cell_type": "code",
   "execution_count": 107,
   "id": "83a066c2-99be-4bf1-8bb3-8c633c9c36a6",
   "metadata": {},
   "outputs": [],
   "source": [
    "url = \"https://www.yogapedia.com/yoga-poses#\""
   ]
  },
  {
   "cell_type": "code",
   "execution_count": 108,
   "id": "9369a94d-240a-4637-b05b-12eb4f0986af",
   "metadata": {},
   "outputs": [],
   "source": [
    "driver = webdriver.Chrome()"
   ]
  },
  {
   "cell_type": "code",
   "execution_count": 109,
   "id": "3f9fe1e1-65a9-4d73-a29b-74662bf26a4d",
   "metadata": {},
   "outputs": [],
   "source": [
    "driver.get(url)"
   ]
  },
  {
   "cell_type": "code",
   "execution_count": 166,
   "id": "a2007543-dfaa-4a5e-97ae-ec41347b2c0e",
   "metadata": {},
   "outputs": [],
   "source": [
    "driver.refresh()"
   ]
  },
  {
   "cell_type": "code",
   "execution_count": 118,
   "id": "ba78c5c5-772e-467b-8f0e-e2b3979b70fc",
   "metadata": {},
   "outputs": [],
   "source": [
    "driver.back()"
   ]
  },
  {
   "cell_type": "code",
   "execution_count": null,
   "id": "5cebb1a0-3e70-4716-9c10-75268863328f",
   "metadata": {},
   "outputs": [],
   "source": []
  },
  {
   "cell_type": "code",
   "execution_count": 110,
   "id": "5b8651d5-8ec4-420f-92c9-0ff122755d20",
   "metadata": {},
   "outputs": [],
   "source": [
    "#html = requests.get(\"\").content\n",
    "html = driver.execute_script(\"return document.body.outerHTML;\")\n",
    "soup = BeautifulSoup(html, \"html.parser\")"
   ]
  },
  {
   "cell_type": "code",
   "execution_count": 117,
   "id": "bca6e4c7-2efc-4b6c-a2d0-7382d56b3521",
   "metadata": {},
   "outputs": [],
   "source": [
    "img_url = soup.find_all(\"div\",{\"class\":\"photo\"})[0].find('img')[\"src\"]\n",
    "response = requests.get(img_url)\n",
    "with open(f'../images/{asana_name}.png', 'wb') as f:\n",
    "    f.write(response.content)"
   ]
  },
  {
   "cell_type": "code",
   "execution_count": 118,
   "id": "39d84342-7172-4374-a6ac-2c010177f5ca",
   "metadata": {},
   "outputs": [],
   "source": []
  },
  {
   "cell_type": "code",
   "execution_count": 120,
   "id": "470c3fdb-7a8e-400f-802c-548355de9a32",
   "metadata": {},
   "outputs": [],
   "source": []
  },
  {
   "cell_type": "code",
   "execution_count": 119,
   "id": "85b28888-27a3-43db-bb8d-078d1e2e2642",
   "metadata": {},
   "outputs": [
    {
     "data": {
      "text/plain": [
       "'Uttanasana'"
      ]
     },
     "execution_count": 119,
     "metadata": {},
     "output_type": "execute_result"
    }
   ],
   "source": [
    "asana_name = soup.find_all(\"div\", {\"class\":\"headline\"})[0].getText().split(\"\\n\")[-2]\n",
    "asana_name"
   ]
  },
  {
   "cell_type": "code",
   "execution_count": 112,
   "id": "c281a2ef-7f00-43de-90fc-aed15d845522",
   "metadata": {},
   "outputs": [
    {
     "data": {
      "text/plain": [
       "'Standing Forward Bend'"
      ]
     },
     "execution_count": 112,
     "metadata": {},
     "output_type": "execute_result"
    }
   ],
   "source": [
    "eng_name = soup.find_all(\"div\", {\"class\":\"headline\"})[0].getText().split(\"\\n\")[1]\n",
    "eng_name"
   ]
  },
  {
   "cell_type": "code",
   "execution_count": 154,
   "id": "b8f226c3-06b5-4b3c-b7a2-daf8f7424bbd",
   "metadata": {},
   "outputs": [
    {
     "name": "stderr",
     "output_type": "stream",
     "text": [
      "C:\\Users\\lucia\\AppData\\Local\\Temp\\ipykernel_16852\\3418368152.py:2: DeprecationWarning: The 'text' argument to find()-type methods is deprecated. Use 'string' instead.\n",
      "  level = soup2.find('dt', text='Pose Level').find_next('dd').getText()\n"
     ]
    },
    {
     "data": {
      "text/plain": [
       "'Beginner'"
      ]
     },
     "execution_count": 154,
     "metadata": {},
     "output_type": "execute_result"
    }
   ],
   "source": [
    "soup2 = soup.find_all(\"div\",{\"class\":\"details\"})[0]\n",
    "level = soup2.find('dt', text='Pose Level').find_next('dd').getText()\n",
    "level"
   ]
  },
  {
   "cell_type": "code",
   "execution_count": 155,
   "id": "4e84ee6f-d6a3-4a0f-96b9-a478ecdefa30",
   "metadata": {},
   "outputs": [
    {
     "name": "stderr",
     "output_type": "stream",
     "text": [
      "C:\\Users\\lucia\\AppData\\Local\\Temp\\ipykernel_16852\\459004118.py:1: DeprecationWarning: The 'text' argument to find()-type methods is deprecated. Use 'string' instead.\n",
      "  level = soup.find_all(\"div\",{\"class\":\"details\"})[0].find('dt', text='Pose Level').find_next('dd').getText()\n"
     ]
    },
    {
     "data": {
      "text/plain": [
       "'Beginner'"
      ]
     },
     "execution_count": 155,
     "metadata": {},
     "output_type": "execute_result"
    }
   ],
   "source": [
    "level = soup.find_all(\"div\",{\"class\":\"details\"})[0].find('dt', text='Pose Level').find_next('dd').getText()\n",
    "level"
   ]
  },
  {
   "cell_type": "code",
   "execution_count": 19,
   "id": "8c8ccf14-8c0a-4125-88a0-204cc56125de",
   "metadata": {},
   "outputs": [
    {
     "name": "stderr",
     "output_type": "stream",
     "text": [
      "C:\\Users\\lucia\\AppData\\Local\\Temp\\ipykernel_2780\\3809315316.py:1: DeprecationWarning: The 'text' argument to find()-type methods is deprecated. Use 'string' instead.\n",
      "  soup.find_all(\"div\",{\"class\":\"details\"})[0].find('dt', text='Drishti').find_next('dd').getText().split('(')[-1][:-1]\n"
     ]
    },
    {
     "data": {
      "text/plain": [
       "'Tip of the toes'"
      ]
     },
     "execution_count": 19,
     "metadata": {},
     "output_type": "execute_result"
    }
   ],
   "source": [
    "drishti = soup.find_all(\"div\",{\"class\":\"details\"})[0].find('dt', text='Drishti').find_next('dd').getText().split('(')[-1][:-1]"
   ]
  },
  {
   "cell_type": "code",
   "execution_count": 101,
   "id": "cc5126df-b101-4d93-a65e-fda9504f0076",
   "metadata": {},
   "outputs": [
    {
     "name": "stderr",
     "output_type": "stream",
     "text": [
      "C:\\Users\\lucia\\AppData\\Local\\Temp\\ipykernel_16852\\1321862182.py:1: DeprecationWarning: The 'text' argument to find()-type methods is deprecated. Use 'string' instead.\n",
      "  pose_type = soup2.find('dt', text='Pose Type').find_next('dd').getText()\n"
     ]
    },
    {
     "data": {
      "text/plain": [
       "'Forward Bends, Standing Poses'"
      ]
     },
     "execution_count": 101,
     "metadata": {},
     "output_type": "execute_result"
    }
   ],
   "source": [
    "pose_type = soup2.find('dt', text='Pose Type').find_next('dd').getText()\n",
    "pose_type"
   ]
  },
  {
   "cell_type": "code",
   "execution_count": 39,
   "id": "14c6944e-bda1-451b-8d98-3f129c5b625a",
   "metadata": {},
   "outputs": [
    {
     "name": "stderr",
     "output_type": "stream",
     "text": [
      "C:\\Users\\lucia\\AppData\\Local\\Temp\\ipykernel_2780\\2206358622.py:2: DeprecationWarning: The 'text' argument to find()-type methods is deprecated. Use 'string' instead.\n",
      "  soup3.find(\"h3\", text=\"Instructions\").find_next()\n"
     ]
    },
    {
     "data": {
      "text/plain": [
       "<ul><li>Stand in mountain pose with your feet hip distance apart and your hands on your hips.</li><li>Deeply exhale while you bend forward, hinging at the hips with knees bent slightly.</li><li>Using both hands, reach to the floor touching palms or fingertips near your feet. Or bend your arms at the elbows and take hold of each elbow with the opposite hand.</li><li>Deeply inhale in the pose to lift and lengthen your upper body, then exhale to bend and release further.</li><li>After you hang in the pose for a minute, bring your hands back to your hips, inhale and lift your upper body all the way back up.</li></ul>"
      ]
     },
     "execution_count": 39,
     "metadata": {},
     "output_type": "execute_result"
    }
   ],
   "source": [
    "soup3 = soup.find_all(\"div\", {\"class\":\"description\"})[0]\n",
    "soup3.find(\"h3\", text=\"Instructions\").find_next()"
   ]
  },
  {
   "cell_type": "code",
   "execution_count": 44,
   "id": "9c3dd943-3f3e-4cfc-8191-17bdb7ed7bf4",
   "metadata": {},
   "outputs": [
    {
     "name": "stderr",
     "output_type": "stream",
     "text": [
      "C:\\Users\\lucia\\AppData\\Local\\Temp\\ipykernel_2780\\3766193533.py:1: DeprecationWarning: The 'text' argument to find()-type methods is deprecated. Use 'string' instead.\n",
      "  cautions = soup.find_all(\"div\", {\"class\":\"description\"})[0].find(\"h3\", text=\"Cautions\").find_next().find_all('li')\n"
     ]
    },
    {
     "data": {
      "text/plain": [
       "['Keep your knees slightly bent.',\n",
       " 'Keep your hips aligned.',\n",
       " 'Try to avoid rounding the spine.']"
      ]
     },
     "execution_count": 44,
     "metadata": {},
     "output_type": "execute_result"
    }
   ],
   "source": [
    "cautions = soup.find_all(\"div\", {\"class\":\"description\"})[0].find(\"h3\", text=\"Cautions\").find_next().find_all('li')\n",
    "cautions = [el.getText() for el in cautions]\n",
    "cautions"
   ]
  },
  {
   "cell_type": "code",
   "execution_count": 45,
   "id": "27b84e5a-5b59-476e-bd4c-96f7d8ef2756",
   "metadata": {},
   "outputs": [
    {
     "name": "stderr",
     "output_type": "stream",
     "text": [
      "C:\\Users\\lucia\\AppData\\Local\\Temp\\ipykernel_2780\\3854390827.py:1: DeprecationWarning: The 'text' argument to find()-type methods is deprecated. Use 'string' instead.\n",
      "  benefits = soup.find_all(\"div\", {\"class\":\"description\"})[0].find(\"h3\", text=re.compile(r'^Benefits.*')).find_next().find_all('li')\n"
     ]
    },
    {
     "data": {
      "text/plain": [
       "['Lengthens the hamstrings and calves',\n",
       " 'Strengthens the thighs',\n",
       " 'Reduces fatigue']"
      ]
     },
     "execution_count": 45,
     "metadata": {},
     "output_type": "execute_result"
    }
   ],
   "source": [
    "benefits = soup.find_all(\"div\", {\"class\":\"description\"})[0].find(\"h3\", text=re.compile(r'^Benefits.*')).find_next().find_all('li')\n",
    "benefits = [el.getText() for el in benefits]\n",
    "benefits"
   ]
  },
  {
   "cell_type": "code",
   "execution_count": null,
   "id": "99013f90-8373-418f-b4d5-4318f75c7871",
   "metadata": {},
   "outputs": [],
   "source": []
  },
  {
   "cell_type": "code",
   "execution_count": null,
   "id": "917d87cb-382d-4b51-ab3d-262e1bda2162",
   "metadata": {},
   "outputs": [],
   "source": []
  },
  {
   "cell_type": "code",
   "execution_count": 203,
   "id": "92473d6b-8d6d-4da9-b80d-44fe0b6a6ada",
   "metadata": {},
   "outputs": [],
   "source": [
    "url = \"https://www.yogapedia.com/yoga-poses#\""
   ]
  },
  {
   "cell_type": "code",
   "execution_count": 204,
   "id": "3c1a4d78-afcc-4dee-9d66-54a71af94cd7",
   "metadata": {},
   "outputs": [],
   "source": [
    "driver = webdriver.Chrome()"
   ]
  },
  {
   "cell_type": "code",
   "execution_count": 205,
   "id": "875ec3f9-1019-4ba0-8b02-4fface166971",
   "metadata": {},
   "outputs": [],
   "source": [
    "driver.get(url)"
   ]
  },
  {
   "cell_type": "code",
   "execution_count": 206,
   "id": "c9c0b1bd-8c9c-4522-8ada-3f3a5da5bb10",
   "metadata": {},
   "outputs": [],
   "source": [
    "html = driver.execute_script(\"return document.body.outerHTML;\")\n",
    "soup = BeautifulSoup(html, \"html.parser\")"
   ]
  },
  {
   "cell_type": "code",
   "execution_count": 223,
   "id": "8be22458-5e79-494f-96c3-90a3279f4e7d",
   "metadata": {},
   "outputs": [],
   "source": [
    "all_positions = soup.find_all(\"div\", {\"id\":\"yoga-positions-wrapper\"})[0].find_all(\"ul\", {\"id\":\"yoga-positions-listing\"})[0].find_all(\"li\",{\"class\":\"item-card shown\"})"
   ]
  },
  {
   "cell_type": "code",
   "execution_count": 224,
   "id": "0ffb5af1-3b05-4c52-8b85-ac474029eccb",
   "metadata": {},
   "outputs": [],
   "source": [
    "url1 = \"https://www.yogapedia.com\" + all_positions[0].find_all(\"div\",{\"class\":\"position-card\"})[0].find_all(\"a\",{\"class\":\"pic\"})[0][\"href\"]"
   ]
  },
  {
   "cell_type": "code",
   "execution_count": 225,
   "id": "44cfb057-6154-44c1-ab3f-2fbfe07a5df2",
   "metadata": {},
   "outputs": [
    {
     "data": {
      "text/plain": [
       "'https://www.yogapedia.com/yoga-poses/standing-forward-bend/11/9800'"
      ]
     },
     "execution_count": 225,
     "metadata": {},
     "output_type": "execute_result"
    }
   ],
   "source": [
    "url1"
   ]
  },
  {
   "cell_type": "code",
   "execution_count": 192,
   "id": "821ee8e1-6c8e-4610-ae16-ac78af54786c",
   "metadata": {},
   "outputs": [],
   "source": [
    "driver.get(url1)"
   ]
  },
  {
   "cell_type": "code",
   "execution_count": null,
   "id": "da1afbcb-a756-4e68-b589-7362a2a3eb08",
   "metadata": {},
   "outputs": [],
   "source": []
  },
  {
   "cell_type": "code",
   "execution_count": null,
   "id": "ba356aca-15b9-4507-9da3-2bd817ec6b67",
   "metadata": {},
   "outputs": [],
   "source": []
  },
  {
   "cell_type": "code",
   "execution_count": null,
   "id": "b8599723-ce94-44b5-9285-2bef086db3e4",
   "metadata": {},
   "outputs": [],
   "source": []
  },
  {
   "cell_type": "markdown",
   "id": "4ddff904-44b3-4f56-abc4-a2638403e097",
   "metadata": {},
   "source": [
    "##### functions"
   ]
  },
  {
   "cell_type": "code",
   "execution_count": 128,
   "id": "c7727bd9-8bd6-4b58-8072-74809d80379b",
   "metadata": {},
   "outputs": [],
   "source": [
    "def get_url(soup):\n",
    "    s2 = soup.find_all(\"div\",{\"class\":\"position-card\"})[0].find_all(\"a\",{\"class\":\"pic\"})[0]\n",
    "    return \"https://www.yogapedia.com\" + s2[\"href\"]"
   ]
  },
  {
   "cell_type": "code",
   "execution_count": 129,
   "id": "b7cc8901-92b5-4d72-8b2b-9f3658b4bef1",
   "metadata": {},
   "outputs": [],
   "source": [
    "def get_all_url():\n",
    "    url_list = []\n",
    "    driver = webdriver.Chrome()\n",
    "    driver.get(\"https://www.yogapedia.com/yoga-poses#\")\n",
    "    html = driver.execute_script(\"return document.body.outerHTML;\")\n",
    "    soup = BeautifulSoup(html, \"html.parser\")\n",
    "    all_positions = soup.find_all(\"div\", {\"id\":\"yoga-positions-wrapper\"})[0].find_all(\"ul\", {\"id\":\"yoga-positions-listing\"})[0].find_all(\"li\",{\"class\":\"item-card shown\"})\n",
    "    for el in all_positions:\n",
    "        url = get_url(el)\n",
    "        url_list.append(url)\n",
    "    return url_list"
   ]
  },
  {
   "cell_type": "code",
   "execution_count": 130,
   "id": "f60b2d60-78e6-4cd5-9bca-a4a94f4ec4fc",
   "metadata": {},
   "outputs": [],
   "source": [
    "def get_asana_info(asana_list,driver):\n",
    "    d={}\n",
    "    html = driver.execute_script(\"return document.body.outerHTML;\")\n",
    "    soup = BeautifulSoup(html, \"html.parser\")\n",
    "\n",
    "    asana_name = soup.find_all(\"div\", {\"class\":\"headline\"})[0].getText().split(\"\\n\")[-2]\n",
    "    if asana_name in asana_list:\n",
    "        #print(f\"{asana_name} si\")\n",
    "        d[\"asana_name\"]=asana_name\n",
    "        \n",
    "        img_url = soup.find_all(\"div\",{\"class\":\"photo\"})[0].find('img')[\"src\"]\n",
    "        response = requests.get(img_url)\n",
    "        with open(f'../images/{asana_name}.png', 'wb') as f:\n",
    "            f.write(response.content)\n",
    "            \n",
    "        name = soup.find_all(\"div\", {\"class\":\"headline\"})[0].getText().split(\"\\n\")[1]\n",
    "        d[\"eng_name\"]= name\n",
    "        \n",
    "        level = soup.find_all(\"div\",{\"class\":\"details\"})[0].find('dt', text='Pose Level').find_next('dd').getText()\n",
    "        d[\"level\"]=level\n",
    "        \n",
    "        pose_type = soup.find_all(\"div\",{\"class\":\"details\"})[0].find('dt', text='Pose Type').find_next('dd').getText()\n",
    "        d[\"pose_type\"]=pose_type\n",
    "        \n",
    "        instructions = soup.find_all(\"div\", {\"class\":\"description\"})[0].find(\"h3\", text=\"Instructions\").find_next().getText()\n",
    "        d[\"instructions\"]=instructions\n",
    "        \n",
    "        drishti = soup.find_all(\"div\",{\"class\":\"details\"})[0].find('dt', text='Drishti').find_next('dd').getText().split('(')[-1][:-1]\n",
    "        d[\"drishti\"]=drishti\n",
    "        \n",
    "        cautions = soup.find_all(\"div\", {\"class\":\"description\"})[0].find(\"h3\", text=\"Cautions\").find_next().find_all('li')\n",
    "        cautions = [el.getText() for el in cautions]\n",
    "        d[\"cautions\"] = '\\n'.join(cautions)\n",
    "        \n",
    "        benefits = soup.find_all(\"div\", {\"class\":\"description\"})[0].find(\"h3\", text=re.compile(r'^Benefits.*')).find_next().find_all('li')\n",
    "        benefits = [el.getText() for el in benefits]\n",
    "        d[\"benefits\"]= '\\n'.join(benefits)\n",
    "        \n",
    "    return d           \n"
   ]
  },
  {
   "cell_type": "code",
   "execution_count": 131,
   "id": "e6f76d13-5c7b-49aa-bf2a-a4552ab81227",
   "metadata": {},
   "outputs": [],
   "source": [
    "def get_all_asanas_info(asana_list):\n",
    "    \n",
    "    url_list = get_all_url()\n",
    "    all_poses = []\n",
    "\n",
    "    for el in url_list:\n",
    "\n",
    "        driver = webdriver.Chrome()\n",
    "        driver.get(el)\n",
    "\n",
    "        d = get_asana_info(asana_list,driver)\n",
    "        if d!={}:\n",
    "            all_poses.append(d) \n",
    "\n",
    "    return all_poses "
   ]
  },
  {
   "cell_type": "markdown",
   "id": "41da26a8-693e-4e94-8b5d-ab841a78b041",
   "metadata": {
    "jp-MarkdownHeadingCollapsed": true
   },
   "source": [
    "##### first try"
   ]
  },
  {
   "cell_type": "code",
   "execution_count": null,
   "id": "3fda25a3-4a80-437d-9320-ede29c12e0e6",
   "metadata": {},
   "outputs": [],
   "source": [
    "asanas = get_all_asanas_info(my_asanas)\n",
    "asanas_df = pd.DataFrame(asanas)\n",
    "asanas_df.sort_values(by='asana_name',inplace=True)"
   ]
  },
  {
   "cell_type": "code",
   "execution_count": 238,
   "id": "59ced2c3-edbd-49a9-9535-9f8cb5d1c427",
   "metadata": {},
   "outputs": [
    {
     "name": "stdout",
     "output_type": "stream",
     "text": [
      "['Adho Mukha Svanasana', 'Agnistambhasana', 'Anjaneyasana', 'Anjaneyasana', 'Anjaneyasana', 'Ardha Bhekasana', 'Ardha Chandrasana', 'Ardha Matsyendrasana', 'Ardha Pincha Mayurasana', 'Astavakrasana', 'Baddha Konasana', 'Bakasana', 'Balasana', 'Balasana', 'Bharadvajasana', 'Bhujangasana', 'Bitilasana', 'Camatkarasana', 'Chaturanga Dandasana', 'Dandasana', 'Dhanurasana', 'Eka Pada Rajakapotasana A', 'Eka Pada Rajakapotasana B', 'Garudasana', 'Gomukhasana', 'Halasana', 'Hanumanasana', 'Kapotasana', 'Krounchasana', 'Kurmasana', 'Makara Adho Mukha Svanasana', 'Malasana', 'Malasana', 'Marichyasana C', 'Marjaryasana', 'Mayurasana', 'Natarajasana', 'Padmasana', 'Parighasana', 'Parivrtta Janu Sirsasana', 'Parivrtta Parsvakonasana', 'Parivrtta Trikonasana', 'Parsvottanasana', 'Pasasana', 'Pasasana', 'Paschimottanasana', 'Pincha Mayurasana', 'Prasarita Padottanasana', 'Purvottanasana', 'Salabhasana', 'Salamba Bhujangasana', 'Salamba Sirsasana', 'Savasana', 'Setu Bandha Sarvangasana', 'Simhasana', 'Sukhasana', 'Supta Baddha Konasana', 'Supta Matsyendrasana', 'Supta Padangusthasana', 'Supta Virasana', 'Tadasana', 'Tittibhasana', 'Ustrasana', 'Utkatasana', 'Uttana Shishosana', 'Uttanasana', 'Uttanasana', 'Utthita Ashwa Sanchalanasana', 'Utthita Parsvakonasana', 'Utthita Trikonasana', 'Vajrasana', 'Viparita Karani', 'Virabhadrasana B']\n"
     ]
    }
   ],
   "source": [
    "print(list(asanas_df['asana_name']))"
   ]
  },
  {
   "cell_type": "code",
   "execution_count": null,
   "id": "479ac29e-b426-4641-80b3-bc43d9f2cabb",
   "metadata": {},
   "outputs": [],
   "source": [
    "# ripetuta\n",
    "# Anjaneyasana (crescent moon pose-low lunge)\n",
    "# balasana (child's pose) --> ananda balasana (happy baby pose)\n",
    "# malasana (solo garland pose)\n",
    "# pasasana (solo Bound Revolved Squatting Toe Balance)\n",
    "# uttanasana (bo ragdoll pose)\n",
    "\n",
    "# (solo la prima maiuscola)\n",
    "# Ashtanga namaskara\n",
    "# Dwi pada viparita dandasana\n",
    "# Parsva bakasana\n",
    "# Urdhva mukha svanasana\n",
    "\n",
    "# missing: (13)\n",
    "# anantasana\n",
    "# ardha uttanasana\n",
    "# bhairavasana\n",
    "# bhujapidasana\n",
    "# durvasasana\n",
    "# ganda bherundasana\n",
    "# garbha pindasana\n",
    "# makarasana\n",
    "# phalakasana (low plank)\n",
    "# tolasana\n",
    "# upavistha konasana\n",
    "# urdhva prasarita eka padasana\n",
    "# yoganidrasana"
   ]
  },
  {
   "cell_type": "code",
   "execution_count": null,
   "id": "b4ad1c27-727d-4598-81b4-5b1c5510b2c1",
   "metadata": {},
   "outputs": [],
   "source": []
  },
  {
   "cell_type": "markdown",
   "id": "06ccd296-3943-491f-9db8-25b6c9a39233",
   "metadata": {},
   "source": [
    "##### 'main'"
   ]
  },
  {
   "cell_type": "code",
   "execution_count": 132,
   "id": "0e4d8818-bb5a-429d-86e3-82db0f8f4821",
   "metadata": {},
   "outputs": [
    {
     "name": "stderr",
     "output_type": "stream",
     "text": [
      "C:\\Users\\lucia\\AppData\\Local\\Temp\\ipykernel_18988\\3806840536.py:19: DeprecationWarning: The 'text' argument to find()-type methods is deprecated. Use 'string' instead.\n",
      "  level = soup.find_all(\"div\",{\"class\":\"details\"})[0].find('dt', text='Pose Level').find_next('dd').getText()\n",
      "C:\\Users\\lucia\\AppData\\Local\\Temp\\ipykernel_18988\\3806840536.py:22: DeprecationWarning: The 'text' argument to find()-type methods is deprecated. Use 'string' instead.\n",
      "  pose_type = soup.find_all(\"div\",{\"class\":\"details\"})[0].find('dt', text='Pose Type').find_next('dd').getText()\n",
      "C:\\Users\\lucia\\AppData\\Local\\Temp\\ipykernel_18988\\3806840536.py:25: DeprecationWarning: The 'text' argument to find()-type methods is deprecated. Use 'string' instead.\n",
      "  instructions = soup.find_all(\"div\", {\"class\":\"description\"})[0].find(\"h3\", text=\"Instructions\").find_next().getText()\n",
      "C:\\Users\\lucia\\AppData\\Local\\Temp\\ipykernel_18988\\3806840536.py:28: DeprecationWarning: The 'text' argument to find()-type methods is deprecated. Use 'string' instead.\n",
      "  drishti = soup.find_all(\"div\",{\"class\":\"details\"})[0].find('dt', text='Drishti').find_next('dd').getText().split('(')[-1][:-1]\n",
      "C:\\Users\\lucia\\AppData\\Local\\Temp\\ipykernel_18988\\3806840536.py:31: DeprecationWarning: The 'text' argument to find()-type methods is deprecated. Use 'string' instead.\n",
      "  cautions = soup.find_all(\"div\", {\"class\":\"description\"})[0].find(\"h3\", text=\"Cautions\").find_next().find_all('li')\n",
      "C:\\Users\\lucia\\AppData\\Local\\Temp\\ipykernel_18988\\3806840536.py:35: DeprecationWarning: The 'text' argument to find()-type methods is deprecated. Use 'string' instead.\n",
      "  benefits = soup.find_all(\"div\", {\"class\":\"description\"})[0].find(\"h3\", text=re.compile(r'^Benefits.*')).find_next().find_all('li')\n"
     ]
    }
   ],
   "source": [
    "asanas = get_all_asanas_info(my_asanas)"
   ]
  },
  {
   "cell_type": "code",
   "execution_count": 133,
   "id": "e730da9d-78aa-4fb0-b2d4-8afdf2259631",
   "metadata": {},
   "outputs": [],
   "source": [
    "asanas_df = pd.DataFrame(asanas)\n",
    "asanas_df.sort_values(by='asana_name',inplace=True,ignore_index=True)"
   ]
  },
  {
   "cell_type": "code",
   "execution_count": 134,
   "id": "d2b7f17a-97c8-432c-9747-4ddb32d0bf14",
   "metadata": {},
   "outputs": [],
   "source": [
    "asanas_df.loc[asanas_df[\"eng_name\"] == \"Happy Baby Pose\", \"asana_name\"] = \"Ananda Balasana\"\n",
    "\n",
    "# remove duplicates\n",
    "asanas_df = asanas_df.drop(asanas_df[asanas_df[\"eng_name\"] == \"Low Lunge Pose\"].index)\n",
    "asanas_df = asanas_df.drop(asanas_df[asanas_df[\"eng_name\"] == \"Arrow Lunge\"].index)\n",
    "asanas_df = asanas_df.drop(asanas_df[asanas_df[\"eng_name\"] == \"Balancing Butterfly Pose\"].index)\n",
    "asanas_df = asanas_df.drop(asanas_df[asanas_df[\"eng_name\"] == \"Noose Pose\"].index)\n",
    "asanas_df = asanas_df.drop(asanas_df[asanas_df[\"eng_name\"] == \"Ragdoll Pose\"].index)"
   ]
  },
  {
   "cell_type": "code",
   "execution_count": 135,
   "id": "df99cf48-addd-4aab-9072-0a63026b5d18",
   "metadata": {},
   "outputs": [],
   "source": [
    "asanas_df.sort_values(by='asana_name',inplace=True,ignore_index=True)"
   ]
  },
  {
   "cell_type": "code",
   "execution_count": 136,
   "id": "4c6773ee-5186-4ca4-8349-d70d3be53a23",
   "metadata": {},
   "outputs": [
    {
     "data": {
      "text/plain": [
       "84"
      ]
     },
     "execution_count": 136,
     "metadata": {},
     "output_type": "execute_result"
    }
   ],
   "source": [
    "len(list(asanas_df[\"asana_name\"]))"
   ]
  },
  {
   "cell_type": "code",
   "execution_count": 101,
   "id": "52d001ef-d55d-4999-8eff-20a8a1f2b36a",
   "metadata": {},
   "outputs": [],
   "source": [
    "#list(asanas_df[\"asana_name\"])"
   ]
  },
  {
   "cell_type": "code",
   "execution_count": 53,
   "id": "5eecfec3-b59c-4333-be2e-40e79e6cc4a5",
   "metadata": {},
   "outputs": [],
   "source": [
    "#missing:\n",
    "# koundinyanasana a, koundinyanasana b --> per ora scartati, in realtà ci starebbero\n",
    "# phalakasana --> in realta si chiama Kumbhakasana, funzione get_names corretta\n",
    "# urdhva hastasana --> decidi se tenere sia questa sia tadasana"
   ]
  },
  {
   "cell_type": "code",
   "execution_count": 137,
   "id": "af982560-af5b-4df8-924f-42be6bb7eaaf",
   "metadata": {},
   "outputs": [],
   "source": [
    "asanas_df.to_csv(\"../data/asanas_df.csv\", index=False)"
   ]
  },
  {
   "cell_type": "code",
   "execution_count": 138,
   "id": "38064753-7947-46bc-86dc-4184c688cfbe",
   "metadata": {},
   "outputs": [
    {
     "data": {
      "text/html": [
       "<div>\n",
       "<style scoped>\n",
       "    .dataframe tbody tr th:only-of-type {\n",
       "        vertical-align: middle;\n",
       "    }\n",
       "\n",
       "    .dataframe tbody tr th {\n",
       "        vertical-align: top;\n",
       "    }\n",
       "\n",
       "    .dataframe thead th {\n",
       "        text-align: right;\n",
       "    }\n",
       "</style>\n",
       "<table border=\"1\" class=\"dataframe\">\n",
       "  <thead>\n",
       "    <tr style=\"text-align: right;\">\n",
       "      <th></th>\n",
       "      <th>asana_name</th>\n",
       "      <th>eng_name</th>\n",
       "      <th>level</th>\n",
       "      <th>pose_type</th>\n",
       "      <th>instructions</th>\n",
       "      <th>drishti</th>\n",
       "      <th>cautions</th>\n",
       "      <th>benefits</th>\n",
       "    </tr>\n",
       "  </thead>\n",
       "  <tbody>\n",
       "    <tr>\n",
       "      <th>0</th>\n",
       "      <td>Adho Mukha Svanasana</td>\n",
       "      <td>Downward-Facing Dog Pose</td>\n",
       "      <td>Beginner</td>\n",
       "      <td>Chest Openers, Forward Bends, Inversions</td>\n",
       "      <td>Begin with your hands underneath your shoulder...</td>\n",
       "      <td>Navel</td>\n",
       "      <td>Keep your feet hips distance apart (do not ove...</td>\n",
       "      <td>Stretches the hamstrings, calves, hands, and f...</td>\n",
       "    </tr>\n",
       "    <tr>\n",
       "      <th>1</th>\n",
       "      <td>Adho Mukha Vrksasana</td>\n",
       "      <td>Handstand</td>\n",
       "      <td>Advanced</td>\n",
       "      <td>Arm Balances, Balancing, Core, Inversions, Str...</td>\n",
       "      <td>Begin in downward-facing dog pose with the han...</td>\n",
       "      <td>Tip of the nose</td>\n",
       "      <td>Avoid if there is shoulder injury</td>\n",
       "      <td>Develops physical equilibrium\\nStrengthens wri...</td>\n",
       "    </tr>\n",
       "    <tr>\n",
       "      <th>2</th>\n",
       "      <td>Agnistambhasana</td>\n",
       "      <td>Double Pigeon Pose</td>\n",
       "      <td>Intermediate</td>\n",
       "      <td>Hip Openers, Seated Poses</td>\n",
       "      <td>Start by sitting cross-legged.Exhale and place...</td>\n",
       "      <td>Tip of the nose</td>\n",
       "      <td>Avoid if there is not sufficient hip flexibili...</td>\n",
       "      <td>Opens the hips\\nStretches the groins and legs\\...</td>\n",
       "    </tr>\n",
       "    <tr>\n",
       "      <th>3</th>\n",
       "      <td>Ananda Balasana</td>\n",
       "      <td>Happy Baby Pose</td>\n",
       "      <td>Beginner</td>\n",
       "      <td>Hip Openers, Restorative</td>\n",
       "      <td>From a supine position, exhale and bend the kn...</td>\n",
       "      <td>Tip of the nose</td>\n",
       "      <td>Avoid if there is a neck injury</td>\n",
       "      <td>Opens the hips\\nStretches the groins\\nRelieves...</td>\n",
       "    </tr>\n",
       "    <tr>\n",
       "      <th>4</th>\n",
       "      <td>Anjaneyasana</td>\n",
       "      <td>Crescent Moon Pose</td>\n",
       "      <td>Beginner</td>\n",
       "      <td>Backbends, Balancing, Chest Openers, Hip Openers</td>\n",
       "      <td>Begin in downward facing dog pose.Exhale and s...</td>\n",
       "      <td>Toward the sky</td>\n",
       "      <td>Place a blanket under the back knee if there i...</td>\n",
       "      <td>Opens the hips.\\nLengthens the sides of the bo...</td>\n",
       "    </tr>\n",
       "    <tr>\n",
       "      <th>...</th>\n",
       "      <td>...</td>\n",
       "      <td>...</td>\n",
       "      <td>...</td>\n",
       "      <td>...</td>\n",
       "      <td>...</td>\n",
       "      <td>...</td>\n",
       "      <td>...</td>\n",
       "      <td>...</td>\n",
       "    </tr>\n",
       "    <tr>\n",
       "      <th>79</th>\n",
       "      <td>Virabhadrasana 3</td>\n",
       "      <td>Balancing Stick Pose</td>\n",
       "      <td>Intermediate</td>\n",
       "      <td>Balancing, Core, Standing Poses, Strength</td>\n",
       "      <td>Begin standing in tadasana with the arms stret...</td>\n",
       "      <td>Tip of the hand</td>\n",
       "      <td>Beginners can balance with the arms alongside ...</td>\n",
       "      <td>Improves flexibility in the hamstrings, hips a...</td>\n",
       "    </tr>\n",
       "    <tr>\n",
       "      <th>80</th>\n",
       "      <td>Virabhadrasana 3</td>\n",
       "      <td>Warrior Three Pose</td>\n",
       "      <td>Beginner</td>\n",
       "      <td>Balancing, Chest Openers, Core, Hip Openers, S...</td>\n",
       "      <td>Begin in warrior one pose with the left foot o...</td>\n",
       "      <td>Tip of the nose</td>\n",
       "      <td>Avoid this pose if you have high blood pressur...</td>\n",
       "      <td>Improved stability\\nImproved focus and concent...</td>\n",
       "    </tr>\n",
       "    <tr>\n",
       "      <th>81</th>\n",
       "      <td>Virabhadrasana B</td>\n",
       "      <td>Warrior Two Pose</td>\n",
       "      <td>Beginner</td>\n",
       "      <td>Chest Openers, Core, Hip Openers, Standing Pos...</td>\n",
       "      <td>Begin in warrior one pose with the left foot f...</td>\n",
       "      <td>Side</td>\n",
       "      <td>Avoid if you have high blood pressure or recen...</td>\n",
       "      <td>Improves strength and stamina\\nBuilds core str...</td>\n",
       "    </tr>\n",
       "    <tr>\n",
       "      <th>82</th>\n",
       "      <td>Vrksasana</td>\n",
       "      <td>Tree Pose</td>\n",
       "      <td>Beginner</td>\n",
       "      <td>Balancing, Standing Poses</td>\n",
       "      <td>Stand with your feet together.Inhale and lift ...</td>\n",
       "      <td>Tip of the nose</td>\n",
       "      <td>Do not rest the foot against the knee.</td>\n",
       "      <td>Tones the legs\\nLengthens the spine\\nImproves ...</td>\n",
       "    </tr>\n",
       "    <tr>\n",
       "      <th>83</th>\n",
       "      <td>Vrschikasana</td>\n",
       "      <td>Scorpion Pose</td>\n",
       "      <td>Advanced</td>\n",
       "      <td>Arm Balances, Backbends, Balancing, Chest Open...</td>\n",
       "      <td>Begin in forearm balance pose.Exhale and bend ...</td>\n",
       "      <td>Tip of the nose</td>\n",
       "      <td>Avoid this pose if there is spinal injury or h...</td>\n",
       "      <td>Strengthens the core, back, arms and shoulders...</td>\n",
       "    </tr>\n",
       "  </tbody>\n",
       "</table>\n",
       "<p>84 rows × 8 columns</p>\n",
       "</div>"
      ],
      "text/plain": [
       "              asana_name                  eng_name         level  \\\n",
       "0   Adho Mukha Svanasana  Downward-Facing Dog Pose      Beginner   \n",
       "1   Adho Mukha Vrksasana                 Handstand      Advanced   \n",
       "2        Agnistambhasana        Double Pigeon Pose  Intermediate   \n",
       "3        Ananda Balasana           Happy Baby Pose      Beginner   \n",
       "4           Anjaneyasana        Crescent Moon Pose      Beginner   \n",
       "..                   ...                       ...           ...   \n",
       "79      Virabhadrasana 3      Balancing Stick Pose  Intermediate   \n",
       "80      Virabhadrasana 3        Warrior Three Pose      Beginner   \n",
       "81      Virabhadrasana B          Warrior Two Pose      Beginner   \n",
       "82             Vrksasana                 Tree Pose      Beginner   \n",
       "83          Vrschikasana             Scorpion Pose      Advanced   \n",
       "\n",
       "                                            pose_type  \\\n",
       "0            Chest Openers, Forward Bends, Inversions   \n",
       "1   Arm Balances, Balancing, Core, Inversions, Str...   \n",
       "2                           Hip Openers, Seated Poses   \n",
       "3                            Hip Openers, Restorative   \n",
       "4    Backbends, Balancing, Chest Openers, Hip Openers   \n",
       "..                                                ...   \n",
       "79          Balancing, Core, Standing Poses, Strength   \n",
       "80  Balancing, Chest Openers, Core, Hip Openers, S...   \n",
       "81  Chest Openers, Core, Hip Openers, Standing Pos...   \n",
       "82                          Balancing, Standing Poses   \n",
       "83  Arm Balances, Backbends, Balancing, Chest Open...   \n",
       "\n",
       "                                         instructions          drishti  \\\n",
       "0   Begin with your hands underneath your shoulder...            Navel   \n",
       "1   Begin in downward-facing dog pose with the han...  Tip of the nose   \n",
       "2   Start by sitting cross-legged.Exhale and place...  Tip of the nose   \n",
       "3   From a supine position, exhale and bend the kn...  Tip of the nose   \n",
       "4   Begin in downward facing dog pose.Exhale and s...   Toward the sky   \n",
       "..                                                ...              ...   \n",
       "79  Begin standing in tadasana with the arms stret...  Tip of the hand   \n",
       "80  Begin in warrior one pose with the left foot o...  Tip of the nose   \n",
       "81  Begin in warrior one pose with the left foot f...             Side   \n",
       "82  Stand with your feet together.Inhale and lift ...  Tip of the nose   \n",
       "83  Begin in forearm balance pose.Exhale and bend ...  Tip of the nose   \n",
       "\n",
       "                                             cautions  \\\n",
       "0   Keep your feet hips distance apart (do not ove...   \n",
       "1                   Avoid if there is shoulder injury   \n",
       "2   Avoid if there is not sufficient hip flexibili...   \n",
       "3                     Avoid if there is a neck injury   \n",
       "4   Place a blanket under the back knee if there i...   \n",
       "..                                                ...   \n",
       "79  Beginners can balance with the arms alongside ...   \n",
       "80  Avoid this pose if you have high blood pressur...   \n",
       "81  Avoid if you have high blood pressure or recen...   \n",
       "82             Do not rest the foot against the knee.   \n",
       "83  Avoid this pose if there is spinal injury or h...   \n",
       "\n",
       "                                             benefits  \n",
       "0   Stretches the hamstrings, calves, hands, and f...  \n",
       "1   Develops physical equilibrium\\nStrengthens wri...  \n",
       "2   Opens the hips\\nStretches the groins and legs\\...  \n",
       "3   Opens the hips\\nStretches the groins\\nRelieves...  \n",
       "4   Opens the hips.\\nLengthens the sides of the bo...  \n",
       "..                                                ...  \n",
       "79  Improves flexibility in the hamstrings, hips a...  \n",
       "80  Improved stability\\nImproved focus and concent...  \n",
       "81  Improves strength and stamina\\nBuilds core str...  \n",
       "82  Tones the legs\\nLengthens the spine\\nImproves ...  \n",
       "83  Strengthens the core, back, arms and shoulders...  \n",
       "\n",
       "[84 rows x 8 columns]"
      ]
     },
     "execution_count": 138,
     "metadata": {},
     "output_type": "execute_result"
    }
   ],
   "source": [
    "asanas_df"
   ]
  },
  {
   "cell_type": "code",
   "execution_count": null,
   "id": "3bb12c03-8d4b-43c4-8246-ed1e68f59fd5",
   "metadata": {},
   "outputs": [],
   "source": []
  }
 ],
 "metadata": {
  "kernelspec": {
   "display_name": "Python 3 (ipykernel)",
   "language": "python",
   "name": "python3"
  },
  "language_info": {
   "codemirror_mode": {
    "name": "ipython",
    "version": 3
   },
   "file_extension": ".py",
   "mimetype": "text/x-python",
   "name": "python",
   "nbconvert_exporter": "python",
   "pygments_lexer": "ipython3",
   "version": "3.11.4"
  }
 },
 "nbformat": 4,
 "nbformat_minor": 5
}
