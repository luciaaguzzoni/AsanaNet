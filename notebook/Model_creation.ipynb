{
 "cells": [
  {
   "cell_type": "markdown",
   "id": "a8e3aeb5-dc1d-4c6e-816e-e2ae1613609c",
   "metadata": {},
   "source": [
    "#### Imported Libraries:"
   ]
  },
  {
   "cell_type": "code",
   "execution_count": 11,
   "id": "f68d67d2-b596-4cc1-aa5b-568f4e7dae9a",
   "metadata": {},
   "outputs": [],
   "source": [
    "import matplotlib.pyplot as plt\n",
    "import matplotlib.image as mpimg\n",
    "import numpy as np\n",
    "import cv2\n",
    "import os\n",
    "\n",
    "import tensorflow as tf\n",
    "from tensorflow import keras\n",
    "from tensorflow.keras import layers\n",
    "from tensorflow.keras.preprocessing.image import ImageDataGenerator\n",
    "from tensorflow.keras.utils import array_to_img, img_to_array, load_img\n",
    "import random\n",
    "\n",
    "from sklearn.model_selection import train_test_split"
   ]
  },
  {
   "cell_type": "markdown",
   "id": "7a642bdd-82b5-4823-b4d2-46923c3ab821",
   "metadata": {},
   "source": [
    "##### constants:"
   ]
  },
  {
   "cell_type": "code",
   "execution_count": 62,
   "id": "457bcb9f-fc22-48c9-96a5-9897b45dc372",
   "metadata": {},
   "outputs": [],
   "source": [
    "img_height = 100\n",
    "img_width = 100"
   ]
  },
  {
   "cell_type": "markdown",
   "id": "747fc58d-b91f-4504-adc1-26412cd1364e",
   "metadata": {},
   "source": [
    "#### Load Data"
   ]
  },
  {
   "cell_type": "code",
   "execution_count": 63,
   "id": "34e03111-06a2-443c-8e34-0bb3d628646a",
   "metadata": {},
   "outputs": [
    {
     "ename": "MemoryError",
     "evalue": "Unable to allocate 1.34 GiB for an array with shape (5992, 100, 100, 3) and data type float64",
     "output_type": "error",
     "traceback": [
      "\u001b[1;31m---------------------------------------------------------------------------\u001b[0m",
      "\u001b[1;31mMemoryError\u001b[0m                               Traceback (most recent call last)",
      "Cell \u001b[1;32mIn[63], line 36\u001b[0m\n\u001b[0;32m     33\u001b[0m         all_labels\u001b[38;5;241m.\u001b[39mappend(labels_dict[label])\n\u001b[0;32m     35\u001b[0m \u001b[38;5;66;03m# Ensure that all_image_paths and all_labels are numpy arrays for easier manipulation\u001b[39;00m\n\u001b[1;32m---> 36\u001b[0m images \u001b[38;5;241m=\u001b[39m \u001b[43mnp\u001b[49m\u001b[38;5;241;43m.\u001b[39;49m\u001b[43marray\u001b[49m\u001b[43m(\u001b[49m\u001b[43mall_images\u001b[49m\u001b[43m)\u001b[49m\u001b[38;5;241;43m/\u001b[39;49m\u001b[38;5;241;43m255\u001b[39;49m \u001b[38;5;66;03m# color values btw 0-1\u001b[39;00m\n\u001b[0;32m     37\u001b[0m labels \u001b[38;5;241m=\u001b[39m np\u001b[38;5;241m.\u001b[39marray(all_labels)\n",
      "\u001b[1;31mMemoryError\u001b[0m: Unable to allocate 1.34 GiB for an array with shape (5992, 100, 100, 3) and data type float64"
     ]
    }
   ],
   "source": [
    "def get_folders_in_directory(directory_path):\n",
    "    # Get the list of all files and folders in the specified directory\n",
    "    items = os.listdir(directory_path)\n",
    "    # Filter out only the folders from the list\n",
    "    folders = [item for item in items if os.path.isdir(os.path.join(directory_path, item))]\n",
    "    return folders\n",
    "    \n",
    "def load_images_from_folder(folder):\n",
    "    # Function to load and preprocess images from a folder\n",
    "    images = []\n",
    "    for filename in os.listdir(folder):\n",
    "        img = cv2.imread(os.path.join(folder, filename))\n",
    "        if img is not None:\n",
    "            img = cv2.cvtColor(img, cv2.COLOR_BGR2RGB)  # Convert to RGB\n",
    "            img = cv2.resize(img, (img_height, img_width))\n",
    "            images.append(img)\n",
    "    return images\n",
    "\n",
    "\n",
    "\n",
    "\n",
    "base_dir = '../data/dataset'\n",
    "labels_name = get_folders_in_directory(base_dir) # get the list of folder names\n",
    "labels_dict = {label:i for i,label in enumerate(labels_name)} # assign an int for each folder name = asana\n",
    "\n",
    "# Get all images and corresp labels\n",
    "all_images=[]\n",
    "all_labels=[]\n",
    "for label in labels_name:\n",
    "    new_images = load_images_from_folder(base_dir+'/'+label)\n",
    "    all_images = all_images + new_images\n",
    "    for i in range(len(new_images)):\n",
    "        all_labels.append(labels_dict[label])\n",
    "\n",
    "# Ensure that all_image_paths and all_labels are numpy arrays for easier manipulation\n",
    "images = np.array(all_images)/255 # color values btw 0-1\n",
    "labels = np.array(all_labels)"
   ]
  },
  {
   "cell_type": "code",
   "execution_count": 61,
   "id": "ee03dbe1-c37b-4299-bc95-e2de81deca41",
   "metadata": {},
   "outputs": [
    {
     "data": {
      "image/png": "[encoded data removed]",
      "text/plain": [
       "<Figure size 640x480 with 1 Axes>"
      ]
     },
     "metadata": {},
     "output_type": "display_data"
    }
   ],
   "source": [
    "img = all_images[102]\n",
    "plt.imshow(img)\n",
    "plt.show()"
   ]
  },
  {
   "cell_type": "markdown",
   "id": "6ab9a175-bd8b-4bdc-97b5-f36d9272df66",
   "metadata": {},
   "source": [
    "#### Split Data into train, validation, and test sets"
   ]
  },
  {
   "cell_type": "code",
   "execution_count": 56,
   "id": "743987d0-d587-4ca3-8bb0-6b46703618d9",
   "metadata": {},
   "outputs": [
    {
     "ename": "MemoryError",
     "evalue": "Unable to allocate 393. MiB for an array with shape (4194, 64, 64, 3) and data type float64",
     "output_type": "error",
     "traceback": [
      "\u001b[1;31m---------------------------------------------------------------------------\u001b[0m",
      "\u001b[1;31mMemoryError\u001b[0m                               Traceback (most recent call last)",
      "Cell \u001b[1;32mIn[56], line 3\u001b[0m\n\u001b[0;32m      1\u001b[0m \u001b[38;5;66;03m# SPLITTING\u001b[39;00m\n\u001b[0;32m      2\u001b[0m \u001b[38;5;66;03m# Split the dataset into training and temporary sets (combined validation and test)\u001b[39;00m\n\u001b[1;32m----> 3\u001b[0m train_data, temp_data, train_labels, temp_labels \u001b[38;5;241m=\u001b[39m \u001b[43mtrain_test_split\u001b[49m\u001b[43m(\u001b[49m\n\u001b[0;32m      4\u001b[0m \u001b[43m    \u001b[49m\u001b[43mimages\u001b[49m\u001b[43m,\u001b[49m\u001b[43m \u001b[49m\u001b[43mlabels\u001b[49m\u001b[43m,\u001b[49m\u001b[43m \u001b[49m\u001b[43mtest_size\u001b[49m\u001b[38;5;241;43m=\u001b[39;49m\u001b[38;5;241;43m0.3\u001b[39;49m\u001b[43m,\u001b[49m\u001b[43m \u001b[49m\u001b[43mrandom_state\u001b[49m\u001b[38;5;241;43m=\u001b[39;49m\u001b[38;5;241;43m42\u001b[39;49m\n\u001b[0;32m      5\u001b[0m \u001b[43m)\u001b[49m\n\u001b[0;32m      6\u001b[0m \u001b[38;5;66;03m# Split the temporary set into validation and test sets\u001b[39;00m\n\u001b[0;32m      7\u001b[0m val_data, test_data, val_labels, test_labels \u001b[38;5;241m=\u001b[39m train_test_split(\n\u001b[0;32m      8\u001b[0m     temp_data, temp_labels, test_size\u001b[38;5;241m=\u001b[39m\u001b[38;5;241m0.5\u001b[39m, random_state\u001b[38;5;241m=\u001b[39m\u001b[38;5;241m42\u001b[39m\n\u001b[0;32m      9\u001b[0m )\n",
      "File \u001b[1;32m~\\miniconda3\\Lib\\site-packages\\sklearn\\utils\\_param_validation.py:214\u001b[0m, in \u001b[0;36mvalidate_params.<locals>.decorator.<locals>.wrapper\u001b[1;34m(*args, **kwargs)\u001b[0m\n\u001b[0;32m    208\u001b[0m \u001b[38;5;28;01mtry\u001b[39;00m:\n\u001b[0;32m    209\u001b[0m     \u001b[38;5;28;01mwith\u001b[39;00m config_context(\n\u001b[0;32m    210\u001b[0m         skip_parameter_validation\u001b[38;5;241m=\u001b[39m(\n\u001b[0;32m    211\u001b[0m             prefer_skip_nested_validation \u001b[38;5;129;01mor\u001b[39;00m global_skip_validation\n\u001b[0;32m    212\u001b[0m         )\n\u001b[0;32m    213\u001b[0m     ):\n\u001b[1;32m--> 214\u001b[0m         \u001b[38;5;28;01mreturn\u001b[39;00m \u001b[43mfunc\u001b[49m\u001b[43m(\u001b[49m\u001b[38;5;241;43m*\u001b[39;49m\u001b[43margs\u001b[49m\u001b[43m,\u001b[49m\u001b[43m \u001b[49m\u001b[38;5;241;43m*\u001b[39;49m\u001b[38;5;241;43m*\u001b[39;49m\u001b[43mkwargs\u001b[49m\u001b[43m)\u001b[49m\n\u001b[0;32m    215\u001b[0m \u001b[38;5;28;01mexcept\u001b[39;00m InvalidParameterError \u001b[38;5;28;01mas\u001b[39;00m e:\n\u001b[0;32m    216\u001b[0m     \u001b[38;5;66;03m# When the function is just a wrapper around an estimator, we allow\u001b[39;00m\n\u001b[0;32m    217\u001b[0m     \u001b[38;5;66;03m# the function to delegate validation to the estimator, but we replace\u001b[39;00m\n\u001b[0;32m    218\u001b[0m     \u001b[38;5;66;03m# the name of the estimator by the name of the function in the error\u001b[39;00m\n\u001b[0;32m    219\u001b[0m     \u001b[38;5;66;03m# message to avoid confusion.\u001b[39;00m\n\u001b[0;32m    220\u001b[0m     msg \u001b[38;5;241m=\u001b[39m re\u001b[38;5;241m.\u001b[39msub(\n\u001b[0;32m    221\u001b[0m         \u001b[38;5;124mr\u001b[39m\u001b[38;5;124m\"\u001b[39m\u001b[38;5;124mparameter of \u001b[39m\u001b[38;5;124m\\\u001b[39m\u001b[38;5;124mw+ must be\u001b[39m\u001b[38;5;124m\"\u001b[39m,\n\u001b[0;32m    222\u001b[0m         \u001b[38;5;124mf\u001b[39m\u001b[38;5;124m\"\u001b[39m\u001b[38;5;124mparameter of \u001b[39m\u001b[38;5;132;01m{\u001b[39;00mfunc\u001b[38;5;241m.\u001b[39m\u001b[38;5;18m__qualname__\u001b[39m\u001b[38;5;132;01m}\u001b[39;00m\u001b[38;5;124m must be\u001b[39m\u001b[38;5;124m\"\u001b[39m,\n\u001b[0;32m    223\u001b[0m         \u001b[38;5;28mstr\u001b[39m(e),\n\u001b[0;32m    224\u001b[0m     )\n",
      "File \u001b[1;32m~\\miniconda3\\Lib\\site-packages\\sklearn\\model_selection\\_split.py:2672\u001b[0m, in \u001b[0;36mtrain_test_split\u001b[1;34m(test_size, train_size, random_state, shuffle, stratify, *arrays)\u001b[0m\n\u001b[0;32m   2668\u001b[0m     cv \u001b[38;5;241m=\u001b[39m CVClass(test_size\u001b[38;5;241m=\u001b[39mn_test, train_size\u001b[38;5;241m=\u001b[39mn_train, random_state\u001b[38;5;241m=\u001b[39mrandom_state)\n\u001b[0;32m   2670\u001b[0m     train, test \u001b[38;5;241m=\u001b[39m \u001b[38;5;28mnext\u001b[39m(cv\u001b[38;5;241m.\u001b[39msplit(X\u001b[38;5;241m=\u001b[39marrays[\u001b[38;5;241m0\u001b[39m], y\u001b[38;5;241m=\u001b[39mstratify))\n\u001b[1;32m-> 2672\u001b[0m \u001b[38;5;28;01mreturn\u001b[39;00m \u001b[38;5;28mlist\u001b[39m(\n\u001b[0;32m   2673\u001b[0m     chain\u001b[38;5;241m.\u001b[39mfrom_iterable(\n\u001b[0;32m   2674\u001b[0m         (_safe_indexing(a, train), _safe_indexing(a, test)) \u001b[38;5;28;01mfor\u001b[39;00m a \u001b[38;5;129;01min\u001b[39;00m arrays\n\u001b[0;32m   2675\u001b[0m     )\n\u001b[0;32m   2676\u001b[0m )\n",
      "File \u001b[1;32m~\\miniconda3\\Lib\\site-packages\\sklearn\\model_selection\\_split.py:2674\u001b[0m, in \u001b[0;36m<genexpr>\u001b[1;34m(.0)\u001b[0m\n\u001b[0;32m   2668\u001b[0m     cv \u001b[38;5;241m=\u001b[39m CVClass(test_size\u001b[38;5;241m=\u001b[39mn_test, train_size\u001b[38;5;241m=\u001b[39mn_train, random_state\u001b[38;5;241m=\u001b[39mrandom_state)\n\u001b[0;32m   2670\u001b[0m     train, test \u001b[38;5;241m=\u001b[39m \u001b[38;5;28mnext\u001b[39m(cv\u001b[38;5;241m.\u001b[39msplit(X\u001b[38;5;241m=\u001b[39marrays[\u001b[38;5;241m0\u001b[39m], y\u001b[38;5;241m=\u001b[39mstratify))\n\u001b[0;32m   2672\u001b[0m \u001b[38;5;28;01mreturn\u001b[39;00m \u001b[38;5;28mlist\u001b[39m(\n\u001b[0;32m   2673\u001b[0m     chain\u001b[38;5;241m.\u001b[39mfrom_iterable(\n\u001b[1;32m-> 2674\u001b[0m         (\u001b[43m_safe_indexing\u001b[49m\u001b[43m(\u001b[49m\u001b[43ma\u001b[49m\u001b[43m,\u001b[49m\u001b[43m \u001b[49m\u001b[43mtrain\u001b[49m\u001b[43m)\u001b[49m, _safe_indexing(a, test)) \u001b[38;5;28;01mfor\u001b[39;00m a \u001b[38;5;129;01min\u001b[39;00m arrays\n\u001b[0;32m   2675\u001b[0m     )\n\u001b[0;32m   2676\u001b[0m )\n",
      "File \u001b[1;32m~\\miniconda3\\Lib\\site-packages\\sklearn\\utils\\__init__.py:355\u001b[0m, in \u001b[0;36m_safe_indexing\u001b[1;34m(X, indices, axis)\u001b[0m\n\u001b[0;32m    353\u001b[0m     \u001b[38;5;28;01mreturn\u001b[39;00m _pandas_indexing(X, indices, indices_dtype, axis\u001b[38;5;241m=\u001b[39maxis)\n\u001b[0;32m    354\u001b[0m \u001b[38;5;28;01melif\u001b[39;00m \u001b[38;5;28mhasattr\u001b[39m(X, \u001b[38;5;124m\"\u001b[39m\u001b[38;5;124mshape\u001b[39m\u001b[38;5;124m\"\u001b[39m):\n\u001b[1;32m--> 355\u001b[0m     \u001b[38;5;28;01mreturn\u001b[39;00m \u001b[43m_array_indexing\u001b[49m\u001b[43m(\u001b[49m\u001b[43mX\u001b[49m\u001b[43m,\u001b[49m\u001b[43m \u001b[49m\u001b[43mindices\u001b[49m\u001b[43m,\u001b[49m\u001b[43m \u001b[49m\u001b[43mindices_dtype\u001b[49m\u001b[43m,\u001b[49m\u001b[43m \u001b[49m\u001b[43maxis\u001b[49m\u001b[38;5;241;43m=\u001b[39;49m\u001b[43maxis\u001b[49m\u001b[43m)\u001b[49m\n\u001b[0;32m    356\u001b[0m \u001b[38;5;28;01melse\u001b[39;00m:\n\u001b[0;32m    357\u001b[0m     \u001b[38;5;28;01mreturn\u001b[39;00m _list_indexing(X, indices, indices_dtype)\n",
      "File \u001b[1;32m~\\miniconda3\\Lib\\site-packages\\sklearn\\utils\\__init__.py:184\u001b[0m, in \u001b[0;36m_array_indexing\u001b[1;34m(array, key, key_dtype, axis)\u001b[0m\n\u001b[0;32m    182\u001b[0m \u001b[38;5;28;01mif\u001b[39;00m \u001b[38;5;28misinstance\u001b[39m(key, \u001b[38;5;28mtuple\u001b[39m):\n\u001b[0;32m    183\u001b[0m     key \u001b[38;5;241m=\u001b[39m \u001b[38;5;28mlist\u001b[39m(key)\n\u001b[1;32m--> 184\u001b[0m \u001b[38;5;28;01mreturn\u001b[39;00m \u001b[43marray\u001b[49m\u001b[43m[\u001b[49m\u001b[43mkey\u001b[49m\u001b[43m]\u001b[49m \u001b[38;5;28;01mif\u001b[39;00m axis \u001b[38;5;241m==\u001b[39m \u001b[38;5;241m0\u001b[39m \u001b[38;5;28;01melse\u001b[39;00m array[:, key]\n",
      "\u001b[1;31mMemoryError\u001b[0m: Unable to allocate 393. MiB for an array with shape (4194, 64, 64, 3) and data type float64"
     ]
    }
   ],
   "source": [
    "# SPLITTING\n",
    "# Split the dataset into training and temporary sets (combined validation and test)\n",
    "train_data, temp_data, train_labels, temp_labels = train_test_split(\n",
    "    images, labels, test_size=0.3, random_state=42\n",
    ")\n",
    "# Split the temporary set into validation and test sets\n",
    "val_data, test_data, val_labels, test_labels = train_test_split(\n",
    "    temp_data, temp_labels, test_size=0.5, random_state=42\n",
    ")"
   ]
  },
  {
   "cell_type": "code",
   "execution_count": null,
   "id": "91851e96-c47a-4ec9-9f2f-bf50c4c6c74a",
   "metadata": {},
   "outputs": [],
   "source": [
    "from tensorflow.keras.utils import to_categorical\n",
    "\n",
    "# For multi-class classification\n",
    "train_labels_one_hot = to_categorical(train_labels, num_classes=107)\n",
    "val_labels_one_hot = to_categorical(val_labels, num_classes=107)\n",
    "test_labels_one_hot = to_categorical(test_labels, num_classes=107)"
   ]
  },
  {
   "cell_type": "markdown",
   "id": "8a5f55a5-66bb-44b5-933c-06f6ec67a3eb",
   "metadata": {},
   "source": [
    "#### Inicialize ImageDataGenerator"
   ]
  },
  {
   "cell_type": "code",
   "execution_count": null,
   "id": "1f9a6c8f-4808-444c-831c-19097de8fcd6",
   "metadata": {},
   "outputs": [],
   "source": [
    "# Create an ImageDataGenerator for data augmentation\n",
    "def add_noise(img):\n",
    "    #Add random noise to an image\n",
    "    VARIABILITY = 50\n",
    "    deviation = VARIABILITY*random.random()\n",
    "    noise = np.random.normal(0, deviation, img.shape)\n",
    "    new_img = img + noise\n",
    "    np.clip(new_img, 0., 255.)\n",
    "    return new_img\n",
    "    \n",
    "# Initialising the ImageDataGenerator class.\n",
    "# We will pass in the augmentation parameters in the constructor.\n",
    "datagen = ImageDataGenerator(\n",
    "        rotation_range = 360,\n",
    "        width_shift_range=0.2,\n",
    "        height_shift_range=0.2,\n",
    "        horizontal_flip = True,\n",
    "        vertical_flip = True,\n",
    "        preprocessing_function=add_noise\n",
    ")"
   ]
  },
  {
   "cell_type": "markdown",
   "id": "f59bacf3-6039-4690-a359-7545fa213b57",
   "metadata": {},
   "source": [
    "#### Create Model"
   ]
  },
  {
   "cell_type": "code",
   "execution_count": null,
   "id": "b32b110d-d772-4e85-84b1-1bfe7cf3a188",
   "metadata": {},
   "outputs": [],
   "source": [
    "# Define your CNN model\n",
    "model = keras.Sequential([\n",
    "    layers.Conv2D(32, (3, 3), activation='relu', input_shape=(img_height, img_width, 3)),\n",
    "    layers.MaxPooling2D(2, 2),\n",
    "    layers.Conv2D(64, (3, 3), activation='relu'),\n",
    "    layers.MaxPooling2D(2, 2),\n",
    "    layers.Conv2D(128, (3, 3), activation='relu'),\n",
    "    layers.MaxPooling2D(2, 2),\n",
    "    layers.Flatten(),\n",
    "    #layers.Dense(512, activation='relu'),\n",
    "    layers.Dense(107, activation='softmax') \n",
    "])\n",
    "\n",
    "# Compile the model\n",
    "model.compile(optimizer='adam', loss='categorical_crossentropy', metrics=['accuracy'])"
   ]
  },
  {
   "cell_type": "markdown",
   "id": "838f83ee-ec0a-4f0c-a52c-cb07fa807d85",
   "metadata": {},
   "source": [
    "#### Train Model"
   ]
  },
  {
   "cell_type": "code",
   "execution_count": 46,
   "id": "8db9e6c6-eb9a-4830-85dd-3c4e5d3778c9",
   "metadata": {},
   "outputs": [
    {
     "name": "stdout",
     "output_type": "stream",
     "text": [
      "Epoch 1/10\n",
      "132/132 [==============================] - 7s 56ms/step - loss: 4.6607 - accuracy: 0.0148 - val_loss: 4.6613 - val_accuracy: 0.0133\n",
      "Epoch 2/10\n",
      "132/132 [==============================] - 8s 57ms/step - loss: 4.6575 - accuracy: 0.0150 - val_loss: 4.6590 - val_accuracy: 0.0133\n",
      "Epoch 3/10\n",
      "132/132 [==============================] - 8s 58ms/step - loss: 4.6555 - accuracy: 0.0153 - val_loss: 4.6561 - val_accuracy: 0.0167\n",
      "Epoch 4/10\n",
      "132/132 [==============================] - 8s 58ms/step - loss: 4.6541 - accuracy: 0.0145 - val_loss: 4.6575 - val_accuracy: 0.0122\n",
      "Epoch 5/10\n",
      "132/132 [==============================] - 8s 62ms/step - loss: 4.6523 - accuracy: 0.0155 - val_loss: 4.6567 - val_accuracy: 0.0133\n",
      "Epoch 6/10\n",
      "132/132 [==============================] - 10s 76ms/step - loss: 4.6510 - accuracy: 0.0150 - val_loss: 4.6561 - val_accuracy: 0.0133\n",
      "Epoch 7/10\n",
      "132/132 [==============================] - 8s 64ms/step - loss: 4.6498 - accuracy: 0.0138 - val_loss: 4.6557 - val_accuracy: 0.0133\n",
      "Epoch 8/10\n",
      "132/132 [==============================] - 8s 60ms/step - loss: 4.6488 - accuracy: 0.0150 - val_loss: 4.6553 - val_accuracy: 0.0133\n",
      "Epoch 9/10\n",
      "132/132 [==============================] - 10s 77ms/step - loss: 4.6480 - accuracy: 0.0150 - val_loss: 4.6550 - val_accuracy: 0.0133\n",
      "Epoch 10/10\n",
      "132/132 [==============================] - 7s 56ms/step - loss: 4.6472 - accuracy: 0.0150 - val_loss: 4.6546 - val_accuracy: 0.0133\n",
      "29/29 [==============================] - 0s 11ms/step - loss: 4.6609 - accuracy: 0.0133\n",
      "Test accuracy: 0.013348164968192577\n"
     ]
    }
   ],
   "source": [
    "# Train the model with data augmentation\n",
    "batch_size = 32 # number of training examples utilized in one iteration\n",
    "# Use flow for the training set\n",
    "train_datagen = datagen.flow(train_data, train_labels_one_hot, batch_size=batch_size)\n",
    "# Use flow for the validation set\n",
    "val_datagen = datagen.flow(val_data, val_labels_one_hot, batch_size=batch_size)\n",
    "\n",
    "# Train the model with data augmentation\n",
    "history = model.fit(train_datagen, epochs=10, validation_data=val_datagen)\n",
    "\n",
    "\n",
    "# Evaluate the model on the test set\n",
    "test_loss, test_acc = model.evaluate(test_data, test_labels_one_hot)\n",
    "print(f'Test accuracy: {test_acc}')"
   ]
  },
  {
   "cell_type": "code",
   "execution_count": null,
   "id": "caffcea6-035b-4120-91af-4b7f545980a8",
   "metadata": {},
   "outputs": [],
   "source": []
  },
  {
   "cell_type": "code",
   "execution_count": null,
   "id": "21d732a6-2678-4924-a8f8-a18b014d75ce",
   "metadata": {},
   "outputs": [],
   "source": [
    "# (64,64,3)\n",
    "# 1 layer, 4 epochs, batch_size 8 : Test accuracy: 0.01001112349331379\n",
    "# 2 layers, 4 epochs, batch_size 8 : Test accuracy: 0.01001112349331379\n",
    "# 3 layers, 4 epochs, batch_size 8 : Test accuracy: 0.01446051150560379\n",
    "# 3 layers, 4 epochs, batch_size 32 : Test accuracy: 0.013348164968192577\n",
    "# 3 layers, 10 epochs, batch_size 32 : Test accuracy: 0.013348164968192577\n"
   ]
  },
  {
   "cell_type": "code",
   "execution_count": null,
   "id": "432e13d1-e643-4035-bcd2-60e02e04b918",
   "metadata": {},
   "outputs": [],
   "source": []
  },
  {
   "cell_type": "code",
   "execution_count": null,
   "id": "4c3d5fc4-0b0c-4b11-99a5-d2bdd9655f02",
   "metadata": {},
   "outputs": [],
   "source": []
  },
  {
   "cell_type": "code",
   "execution_count": null,
   "id": "40009ca2-9c9f-4daa-bbac-e85f270595ae",
   "metadata": {},
   "outputs": [],
   "source": []
  },
  {
   "cell_type": "markdown",
   "id": "73ef4d41-556d-4868-b077-56a76e7384f1",
   "metadata": {},
   "source": [
    "#### Ways to improve the model:\n",
    "- tune hyperparameters\n",
    "- decide number of layers"
   ]
  },
  {
   "cell_type": "markdown",
   "id": "d6b6a73d-406a-4674-850b-870fefd4c659",
   "metadata": {},
   "source": [
    "##### Hyperparameters:\n",
    "1. number of neurons in each hidden layer: The number of neurons should be adjusted to the solution complexity. The task with a more complex level to predict needs more neurons. The number of neurons range is set to be from 10 to 100.\n",
    "pu\n",
    "2activation function: is a parameter in each layer. "
   ]
  },
  {
   "cell_type": "markdown",
   "id": "83a1690d-8553-4b7b-8f4f-541c082df635",
   "metadata": {},
   "source": [
    "##### Number of layers:\n",
    "(different layers can affect the accuracy. fewer layers may give an underfitting result while too many layers may make it overfitting)"
   ]
  },
  {
   "cell_type": "code",
   "execution_count": null,
   "id": "7b8f9752-92e7-4c55-aec6-9606a18e21bd",
   "metadata": {},
   "outputs": [],
   "source": []
  }
 ],
 "metadata": {
  "kernelspec": {
   "display_name": "Python 3 (ipykernel)",
   "language": "python",
   "name": "python3"
  },
  "language_info": {
   "codemirror_mode": {
    "name": "ipython",
    "version": 3
   },
   "file_extension": ".py",
   "mimetype": "text/x-python",
   "name": "python",
   "nbconvert_exporter": "python",
   "pygments_lexer": "ipython3",
   "version": "3.11.4"
  }
 },
 "nbformat": 4,
 "nbformat_minor": 5
}
