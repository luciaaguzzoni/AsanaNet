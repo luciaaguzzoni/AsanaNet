{
 "cells": [
  {
   "cell_type": "markdown",
   "id": "b54fabed-9294-48a5-8ead-c9aaa7e69d05",
   "metadata": {},
   "source": [
    "## Libraries"
   ]
  },
  {
   "cell_type": "code",
   "execution_count": 49,
   "id": "82128c76-8bcb-4563-b7cb-60126076d258",
   "metadata": {},
   "outputs": [],
   "source": [
    "import pandas as pd\n",
    "import os\n",
    "import time\n",
    "import requests"
   ]
  },
  {
   "cell_type": "code",
   "execution_count": null,
   "id": "dc02bea5-0ed2-4dc6-a35f-e522153d28d4",
   "metadata": {},
   "outputs": [],
   "source": [
    "from selenium import webdriver\n",
    "from selenium.webdriver.common.keys import Keys\n",
    "from selenium.webdriver.common.by import By\n",
    "from selenium.webdriver.support.ui import WebDriverWait\n",
    "from selenium.webdriver.support import expected_conditions as EC\n",
    "from selenium import webdriver\n",
    "from selenium.webdriver.support.ui import Select\n",
    "from selenium import webdriver\n",
    "\n",
    "from bs4 import BeautifulSoup"
   ]
  },
  {
   "cell_type": "markdown",
   "id": "43a4a7b1-05a2-4297-a952-3258a9fec78b",
   "metadata": {
    "jp-MarkdownHeadingCollapsed": true
   },
   "source": [
    "## position names"
   ]
  },
  {
   "cell_type": "code",
   "execution_count": 5,
   "id": "0ac8904c-d3b2-4222-9636-06f2bf479a31",
   "metadata": {},
   "outputs": [],
   "source": [
    "def get_folders_in_directory(directory_path):\n",
    "    # Get the list of all files and folders in the specified directory\n",
    "    items = os.listdir(directory_path)\n",
    "    # Filter out only the folders from the list\n",
    "    folders = [item for item in items if os.path.isdir(os.path.join(directory_path, item))]\n",
    "    return folders"
   ]
  },
  {
   "cell_type": "code",
   "execution_count": 8,
   "id": "a2cbe207-aa14-477d-8566-6a0dc3835216",
   "metadata": {},
   "outputs": [],
   "source": [
    "base_dir = '../data/dataset'\n",
    "asana_names_list = get_folders_in_directory(base_dir)"
   ]
  },
  {
   "cell_type": "code",
   "execution_count": null,
   "id": "3f42f6d8-3aeb-4bdb-9267-180fad96173c",
   "metadata": {},
   "outputs": [],
   "source": [
    "eng_names = pd.read_csv(\"../data/asana_names.csv\")\n",
    "eng_names.sammple()"
   ]
  },
  {
   "cell_type": "code",
   "execution_count": 20,
   "id": "05b89a04-28ea-4cac-9061-84e74382de32",
   "metadata": {},
   "outputs": [],
   "source": [
    "position_df = []\n",
    "for el in asana_names_list:\n",
    "    d = {}\n",
    "    d[\"Name\"] = el\n",
    "    if any(eng_names['AName'] == el):\n",
    "        d[\"Eng_Name\"]= eng_names.loc[eng_names['AName'] == el, 'ENG'].values[0]\n",
    "    position_df.append(d)"
   ]
  },
  {
   "cell_type": "code",
   "execution_count": 6,
   "id": "a92621e7-d9bc-48ed-91f7-ef93f14a3fb5",
   "metadata": {
    "scrolled": true
   },
   "outputs": [],
   "source": [
    "df = pd.DataFrame(position_df)"
   ]
  },
  {
   "cell_type": "code",
   "execution_count": 23,
   "id": "f4417fbb-41ba-47e7-9bf8-346e528ad29f",
   "metadata": {},
   "outputs": [],
   "source": [
    "df.to_csv(\"../data/yoga_poses_1.csv\",index=False)"
   ]
  },
  {
   "cell_type": "code",
   "execution_count": null,
   "id": "237dce2c-c7b5-4e5e-8d92-e8937511252b",
   "metadata": {},
   "outputs": [],
   "source": []
  },
  {
   "cell_type": "code",
   "execution_count": null,
   "id": "57501d11-0809-47a8-8ef2-943345597962",
   "metadata": {},
   "outputs": [],
   "source": []
  },
  {
   "cell_type": "code",
   "execution_count": null,
   "id": "a8faab70-e176-467e-813b-7b5755798910",
   "metadata": {},
   "outputs": [],
   "source": []
  },
  {
   "cell_type": "markdown",
   "id": "74d99e7b-87fc-48e2-b5ac-fdccecbd8186",
   "metadata": {},
   "source": [
    "## Building dataset"
   ]
  },
  {
   "cell_type": "code",
   "execution_count": 2,
   "id": "467e974a-2fe9-4587-bf09-0a44e9f4eeda",
   "metadata": {},
   "outputs": [
    {
     "name": "stdout",
     "output_type": "stream",
     "text": [
      "<class 'pandas.core.frame.DataFrame'>\n",
      "RangeIndex: 102 entries, 0 to 101\n",
      "Data columns (total 2 columns):\n",
      " #   Column    Non-Null Count  Dtype \n",
      "---  ------    --------------  ----- \n",
      " 0   Name      102 non-null    object\n",
      " 1   Eng_Name  102 non-null    object\n",
      "dtypes: object(2)\n",
      "memory usage: 1.7+ KB\n"
     ]
    }
   ],
   "source": [
    "df = pd.read_csv(\"../data/yoga_poses.csv\")\n",
    "df.info()"
   ]
  },
  {
   "cell_type": "code",
   "execution_count": null,
   "id": "33068a66-7ff5-41fa-a6dd-8b57c78f90d7",
   "metadata": {},
   "outputs": [],
   "source": [
    "kaggle_dataset = pd.read_csv(\"../data/archive/final_asan1_1.csv\")\n",
    "kaggle_dataset.drop(\"AID\", axis=1, inplace=True)\n",
    "kaggle_dataset[\"AName\"] = kaggle_dataset[\"AName\"].apply(lambda x : x.lower())\n",
    "kaggle_dataset.sort_values(by=[\"AName\"],inplace=True,ignore_index=True)\n",
    "\n",
    "# Drop rows containing specified phrases in the 'AName' column\n",
    "phrases_to_drop = ['blinking', 'front and sideways viewing', 'nearing and distant viewing',\n",
    "                   'rotational viewing', 'sideways viewing', 'up and down viewing', 'prayanama', 'yoni mudra']\n",
    "kaggle_dataset = kaggle_dataset[~kaggle_dataset['AName'].str.contains('|'.join(phrases_to_drop))]\n",
    "\n",
    "# Use regular expression to extract values within parentheses\n",
    "kaggle_dataset['AName'] = kaggle_dataset['AName'].str.replace('\\n',' ')\n",
    "kaggle_dataset['ENG'] = kaggle_dataset['AName'].str.extract(r'\\((.*?)\\)')\n",
    "#df1['ENG'] = df1[\"AName\"].str.extract(r'\\((.*$)')\n",
    "kaggle_dataset['AName'] = kaggle_dataset['AName'].replace(to_replace=r'\\((.*?)\\)', value='', regex=True)\n",
    "#df1['AName'] = df1['AName'].replace(to_replace=r'\\((.*$)', value='', regex=True)\n",
    "kaggle_dataset['AName'] = kaggle_dataset['AName'].str.strip()\n",
    "\n",
    "#kaggle_dataset.head()"
   ]
  },
  {
   "cell_type": "code",
   "execution_count": 14,
   "id": "d2beddb0-69b5-4d20-931f-2593f6880a6b",
   "metadata": {},
   "outputs": [
    {
     "name": "stdout",
     "output_type": "stream",
     "text": [
      "<class 'pandas.core.frame.DataFrame'>\n",
      "Index: 219 entries, 0 to 224\n",
      "Data columns (total 12 columns):\n",
      " #   Column             Non-Null Count  Dtype  \n",
      "---  ------             --------------  -----  \n",
      " 0   AName              219 non-null    object \n",
      " 1   Description        218 non-null    object \n",
      " 2   Benefits           208 non-null    object \n",
      " 3   Contraindications  152 non-null    object \n",
      " 4   Breathing          183 non-null    object \n",
      " 5   awareness          185 non-null    object \n",
      " 6   You tube Vdo link  0 non-null      float64\n",
      " 7   Photo              0 non-null      float64\n",
      " 8   References         0 non-null      float64\n",
      " 9   Variations         50 non-null     object \n",
      " 10  Level              171 non-null    object \n",
      " 11  ENG                131 non-null    object \n",
      "dtypes: float64(3), object(9)\n",
      "memory usage: 22.2+ KB\n"
     ]
    }
   ],
   "source": [
    "kaggle_dataset.info()"
   ]
  },
  {
   "cell_type": "code",
   "execution_count": null,
   "id": "67ed2486-98da-4a86-9647-a69919a86785",
   "metadata": {},
   "outputs": [],
   "source": []
  },
  {
   "cell_type": "code",
   "execution_count": 161,
   "id": "26d9b533-0184-4471-80f0-6082e4d26804",
   "metadata": {},
   "outputs": [],
   "source": [
    "my_asanas = [el.title() for el in list(df[\"Name\"])]"
   ]
  },
  {
   "cell_type": "code",
   "execution_count": 162,
   "id": "dc6bd47a-638a-40a0-8a77-523f30a0c8b7",
   "metadata": {},
   "outputs": [
    {
     "data": {
      "text/plain": [
       "['Adho Mukha Svanasana',\n",
       " 'Adho Mukha Vriksasana',\n",
       " 'Agnistambhasana',\n",
       " 'Ananda Balasana',\n",
       " 'Anantasana',\n",
       " 'Anjaneyasana',\n",
       " 'Ardha Bhekasana',\n",
       " 'Ardha Chandrasana',\n",
       " 'Ardha Matsyendrasana',\n",
       " 'Ardha Pincha Mayurasana',\n",
       " 'Ardha Uttanasana',\n",
       " 'Ashtanga Namaskara',\n",
       " 'Astavakrasana',\n",
       " 'Baddha Konasana',\n",
       " 'Bakasana',\n",
       " 'Balasana',\n",
       " 'Bhairavasana',\n",
       " 'Bharadvajasana I',\n",
       " 'Bhekasana',\n",
       " 'Bhujangasana',\n",
       " 'Bhujapidasana',\n",
       " 'Bitilasana',\n",
       " 'Camatkarasana',\n",
       " 'Chaturanga Dandasana',\n",
       " 'Dandasana',\n",
       " 'Dhanurasana',\n",
       " 'Durvasasana',\n",
       " 'Dwi Pada Viparita Dandasana',\n",
       " 'Eka Pada Koundinyanasana I',\n",
       " 'Eka Pada Koundinyanasana Ii',\n",
       " 'Eka Pada Rajakapotasana',\n",
       " 'Eka Pada Rajakapotasana Ii',\n",
       " 'Ganda Bherundasana',\n",
       " 'Garbha Pindasana',\n",
       " 'Garudasana',\n",
       " 'Gomukhasana',\n",
       " 'Halasana',\n",
       " 'Hanumanasana',\n",
       " 'Janu Sirsasana',\n",
       " 'Kapotasana',\n",
       " 'Krounchasana',\n",
       " 'Kurmasana',\n",
       " 'Makara Adho Mukha Svanasana',\n",
       " 'Makarasana',\n",
       " 'Malasana',\n",
       " 'Marichyasana I',\n",
       " 'Marichyasana Iii',\n",
       " 'Marjaryasana',\n",
       " 'Matsyasana',\n",
       " 'Mayurasana',\n",
       " 'Natarajasana',\n",
       " 'Padmasana',\n",
       " 'Parighasana',\n",
       " 'Paripurna Navasana',\n",
       " 'Parivrtta Janu Sirsasana',\n",
       " 'Parivrtta Parsvakonasana',\n",
       " 'Parivrtta Trikonasana',\n",
       " 'Parsva Bakasana',\n",
       " 'Parsvottanasana',\n",
       " 'Pasasana',\n",
       " 'Paschimottanasana',\n",
       " 'Phalakasana',\n",
       " 'Pincha Mayurasana',\n",
       " 'Prasarita Padottanasana',\n",
       " 'Purvottanasana',\n",
       " 'Salabhasana',\n",
       " 'Salamba Bhujangasana',\n",
       " 'Salamba Sarvangasana',\n",
       " 'Salamba Sirsasana',\n",
       " 'Savasana',\n",
       " 'Setu Bandha Sarvangasana',\n",
       " 'Simhasana',\n",
       " 'Sukhasana',\n",
       " 'Supta Baddha Konasana',\n",
       " 'Supta Matsyendrasana',\n",
       " 'Supta Padangusthasana',\n",
       " 'Supta Virasana',\n",
       " 'Tadasana',\n",
       " 'Tittibhasana',\n",
       " 'Tolasana',\n",
       " 'Upavistha Konasana',\n",
       " 'Urdhva Dhanurasana',\n",
       " 'Urdhva Hastasana',\n",
       " 'Urdhva Mukha Svanasana',\n",
       " 'Urdhva Prasarita Eka Padasana',\n",
       " 'Ustrasana',\n",
       " 'Utkatasana',\n",
       " 'Uttana Shishosana',\n",
       " 'Uttanasana',\n",
       " 'Utthita Ashwa Sanchalanasana',\n",
       " 'Utthita Hasta Padangustasana',\n",
       " 'Utthita Parsvakonasana',\n",
       " 'Utthita Trikonasana',\n",
       " 'Vajrasana',\n",
       " 'Vasisthasana',\n",
       " 'Viparita Karani',\n",
       " 'Virabhadrasana I',\n",
       " 'Virabhadrasana Ii',\n",
       " 'Virabhadrasana Iii',\n",
       " 'Vriksasana',\n",
       " 'Vrischikasana',\n",
       " 'Yoganidrasana']"
      ]
     },
     "execution_count": 162,
     "metadata": {},
     "output_type": "execute_result"
    }
   ],
   "source": [
    "my_asanas"
   ]
  },
  {
   "cell_type": "code",
   "execution_count": null,
   "id": "8dc7b7c6-6b7f-41b5-b978-19f1104565c0",
   "metadata": {},
   "outputs": [],
   "source": []
  },
  {
   "cell_type": "code",
   "execution_count": null,
   "id": "8c4944fd-8fb1-40d0-857e-751168e5748b",
   "metadata": {},
   "outputs": [],
   "source": []
  },
  {
   "cell_type": "code",
   "execution_count": null,
   "id": "d8c7ba52-1a38-48ee-af0a-0a7b85e311a6",
   "metadata": {},
   "outputs": [],
   "source": []
  },
  {
   "cell_type": "markdown",
   "id": "92a7055d-59c3-4833-a851-566224540938",
   "metadata": {},
   "source": [
    "#### Selenium ?"
   ]
  },
  {
   "cell_type": "markdown",
   "id": "c5a63b94-9d33-46bd-bf4e-203a53e25559",
   "metadata": {
    "jp-MarkdownHeadingCollapsed": true
   },
   "source": [
    "###### Scratching"
   ]
  },
  {
   "cell_type": "code",
   "execution_count": 19,
   "id": "83a066c2-99be-4bf1-8bb3-8c633c9c36a6",
   "metadata": {},
   "outputs": [],
   "source": [
    "url = \"https://www.yogapedia.com/yoga-poses#\""
   ]
  },
  {
   "cell_type": "code",
   "execution_count": 128,
   "id": "9369a94d-240a-4637-b05b-12eb4f0986af",
   "metadata": {},
   "outputs": [],
   "source": [
    "driver = webdriver.Chrome()"
   ]
  },
  {
   "cell_type": "code",
   "execution_count": 137,
   "id": "3f9fe1e1-65a9-4d73-a29b-74662bf26a4d",
   "metadata": {},
   "outputs": [],
   "source": [
    "driver.get(url)"
   ]
  },
  {
   "cell_type": "code",
   "execution_count": 141,
   "id": "7097096c-231e-4162-b20e-066f731cc6b4",
   "metadata": {},
   "outputs": [],
   "source": [
    "buttoms = driver.find_elements(By.CLASS_NAME, \"position-card\")\n",
    "buttoms[17].click() # last one"
   ]
  },
  {
   "cell_type": "code",
   "execution_count": 130,
   "id": "3f2364f2-5bcd-42ed-8af1-c9353ee76254",
   "metadata": {},
   "outputs": [],
   "source": [
    "buttom = driver.find_element(By.CLASS_NAME, \"position-card\")\n",
    "buttom.click()"
   ]
  },
  {
   "cell_type": "code",
   "execution_count": 152,
   "id": "82ddc9cf-d76e-4e66-b6b9-939c773daa5e",
   "metadata": {},
   "outputs": [],
   "source": [
    "next_buttom = driver.find_elements(By.CLASS_NAME, \"next\")[0]\n",
    "next_buttom.click()"
   ]
  },
  {
   "cell_type": "code",
   "execution_count": 153,
   "id": "5b8651d5-8ec4-420f-92c9-0ff122755d20",
   "metadata": {},
   "outputs": [],
   "source": [
    "#html = requests.get(\"\").content\n",
    "html = driver.execute_script(\"return document.body.outerHTML;\")\n",
    "soup = BeautifulSoup(html, \"html.parser\")"
   ]
  },
  {
   "cell_type": "code",
   "execution_count": 81,
   "id": "85b28888-27a3-43db-bb8d-078d1e2e2642",
   "metadata": {},
   "outputs": [
    {
     "data": {
      "text/plain": [
       "'Uttanasana'"
      ]
     },
     "execution_count": 81,
     "metadata": {},
     "output_type": "execute_result"
    }
   ],
   "source": [
    "asana_name = soup.find_all(\"div\", {\"class\":\"headline\"})[0].getText().split(\"\\n\")[-2]\n",
    "asana_name"
   ]
  },
  {
   "cell_type": "code",
   "execution_count": 112,
   "id": "c281a2ef-7f00-43de-90fc-aed15d845522",
   "metadata": {},
   "outputs": [
    {
     "data": {
      "text/plain": [
       "'Standing Forward Bend'"
      ]
     },
     "execution_count": 112,
     "metadata": {},
     "output_type": "execute_result"
    }
   ],
   "source": [
    "eng_name = soup.find_all(\"div\", {\"class\":\"headline\"})[0].getText().split(\"\\n\")[1]\n",
    "eng_name"
   ]
  },
  {
   "cell_type": "code",
   "execution_count": 154,
   "id": "b8f226c3-06b5-4b3c-b7a2-daf8f7424bbd",
   "metadata": {},
   "outputs": [
    {
     "name": "stderr",
     "output_type": "stream",
     "text": [
      "C:\\Users\\lucia\\AppData\\Local\\Temp\\ipykernel_16852\\3418368152.py:2: DeprecationWarning: The 'text' argument to find()-type methods is deprecated. Use 'string' instead.\n",
      "  level = soup2.find('dt', text='Pose Level').find_next('dd').getText()\n"
     ]
    },
    {
     "data": {
      "text/plain": [
       "'Beginner'"
      ]
     },
     "execution_count": 154,
     "metadata": {},
     "output_type": "execute_result"
    }
   ],
   "source": [
    "soup2 = soup.find_all(\"div\",{\"class\":\"details\"})[0]\n",
    "level = soup2.find('dt', text='Pose Level').find_next('dd').getText()\n",
    "level"
   ]
  },
  {
   "cell_type": "code",
   "execution_count": 155,
   "id": "4e84ee6f-d6a3-4a0f-96b9-a478ecdefa30",
   "metadata": {},
   "outputs": [
    {
     "name": "stderr",
     "output_type": "stream",
     "text": [
      "C:\\Users\\lucia\\AppData\\Local\\Temp\\ipykernel_16852\\459004118.py:1: DeprecationWarning: The 'text' argument to find()-type methods is deprecated. Use 'string' instead.\n",
      "  level = soup.find_all(\"div\",{\"class\":\"details\"})[0].find('dt', text='Pose Level').find_next('dd').getText()\n"
     ]
    },
    {
     "data": {
      "text/plain": [
       "'Beginner'"
      ]
     },
     "execution_count": 155,
     "metadata": {},
     "output_type": "execute_result"
    }
   ],
   "source": [
    "level = soup.find_all(\"div\",{\"class\":\"details\"})[0].find('dt', text='Pose Level').find_next('dd').getText()\n",
    "level"
   ]
  },
  {
   "cell_type": "code",
   "execution_count": 101,
   "id": "cc5126df-b101-4d93-a65e-fda9504f0076",
   "metadata": {},
   "outputs": [
    {
     "name": "stderr",
     "output_type": "stream",
     "text": [
      "C:\\Users\\lucia\\AppData\\Local\\Temp\\ipykernel_16852\\1321862182.py:1: DeprecationWarning: The 'text' argument to find()-type methods is deprecated. Use 'string' instead.\n",
      "  pose_type = soup2.find('dt', text='Pose Type').find_next('dd').getText()\n"
     ]
    },
    {
     "data": {
      "text/plain": [
       "'Forward Bends, Standing Poses'"
      ]
     },
     "execution_count": 101,
     "metadata": {},
     "output_type": "execute_result"
    }
   ],
   "source": [
    "pose_type = soup2.find('dt', text='Pose Type').find_next('dd').getText()\n",
    "pose_type"
   ]
  },
  {
   "cell_type": "code",
   "execution_count": 109,
   "id": "14c6944e-bda1-451b-8d98-3f129c5b625a",
   "metadata": {},
   "outputs": [
    {
     "name": "stderr",
     "output_type": "stream",
     "text": [
      "C:\\Users\\lucia\\AppData\\Local\\Temp\\ipykernel_16852\\3598757801.py:2: DeprecationWarning: The 'text' argument to find()-type methods is deprecated. Use 'string' instead.\n",
      "  soup3.find(\"h3\", text=\"Instructions\").find_next().getText()\n"
     ]
    },
    {
     "data": {
      "text/plain": [
       "'Stand in mountain pose with your feet hip distance apart and your hands on your hips.Deeply exhale while you bend forward, hinging at the hips with knees bent slightly.Using both hands, reach to the floor touching palms or fingertips near your feet. Or bend your arms at the elbows and take hold of each elbow with the opposite hand.Deeply inhale in the pose to lift and lengthen your upper body, then exhale to bend and release further.After you hang in the pose for a minute, bring your hands back to your hips, inhale and lift your upper body all the way back up.'"
      ]
     },
     "execution_count": 109,
     "metadata": {},
     "output_type": "execute_result"
    }
   ],
   "source": [
    "soup3 = soup.find_all(\"div\", {\"class\":\"description\"})[0]\n",
    "instructions = soup3.find(\"h3\", text=\"Instructions\").find_next().getText()"
   ]
  },
  {
   "cell_type": "code",
   "execution_count": null,
   "id": "9c3dd943-3f3e-4cfc-8191-17bdb7ed7bf4",
   "metadata": {},
   "outputs": [],
   "source": []
  },
  {
   "cell_type": "code",
   "execution_count": null,
   "id": "27b84e5a-5b59-476e-bd4c-96f7d8ef2756",
   "metadata": {},
   "outputs": [],
   "source": []
  },
  {
   "cell_type": "code",
   "execution_count": null,
   "id": "3109d7d0-878a-4b74-ab4c-b2264efcc36e",
   "metadata": {},
   "outputs": [],
   "source": []
  },
  {
   "cell_type": "code",
   "execution_count": null,
   "id": "e48f42e1-85b2-4d0c-acba-32270337b097",
   "metadata": {},
   "outputs": [],
   "source": []
  },
  {
   "cell_type": "markdown",
   "id": "51e3ba60-815f-4f40-9435-87972f88945a",
   "metadata": {},
   "source": [
    "###### get info"
   ]
  },
  {
   "cell_type": "code",
   "execution_count": null,
   "id": "4b986bf7-c3f4-42b8-9af1-e9245ba705b6",
   "metadata": {},
   "outputs": [],
   "source": [
    "def get_asanas_info(asana_list, url):\n",
    "    driver = webdriver.Chrome()\n",
    "    driver.get(url)\n",
    "\n",
    "    all_poses = []\n",
    "\n",
    "    for i in range(10):\n",
    "        buttoms = driver.find_elements(By.CLASS_NAME, \"position-card\")\n",
    "        for j in range(18):\n",
    "            d={}\n",
    "            buttoms[j].click()\n",
    "            \n",
    "            html = driver.execute_script(\"return document.body.outerHTML;\")\n",
    "            soup = BeautifulSoup(html, \"html.parser\")\n",
    "\n",
    "            \n",
    "            asana_name = soup.find_all(\"div\", {\"class\":\"headline\"})[0].getText().split(\"\\n\")[-2]\n",
    "            if asana_name in asana_list:\n",
    "                d[\"asana_name\"]=asana_name\n",
    "                name = soup.find_all(\"div\", {\"class\":\"headline\"})[0].getText().split(\"\\n\")[1]\n",
    "                d[\"eng_name\"]= name\n",
    "                level = soup.find_all(\"div\",{\"class\":\"details\"})[0].find('dt', text='Pose Level').find_next('dd').getText()\n",
    "                d[\"level\"]=level\n",
    "                pose_type = soup2.find('dt', text='Pose Type').find_next('dd').getText()\n",
    "                d[\"pose_type\"]=pose_type\n",
    "                instructions = soup.find_all(\"div\", {\"class\":\"description\"})[0].find(\"h3\", text=\"Instructions\").find_next().getText()\n",
    "                d[\"instructions\"]=instructions\n",
    "                \n",
    "        \n",
    "        next_buttom = driver.find_elements(By.CLASS_NAME, \"next\")[0]\n",
    "        next_buttom.click()\n",
    "\n",
    "    return d  "
   ]
  },
  {
   "cell_type": "code",
   "execution_count": null,
   "id": "c9604aef-35cf-42c1-83fb-f53e48059074",
   "metadata": {},
   "outputs": [],
   "source": [
    "get_asanas_info(my_asanas,url)"
   ]
  },
  {
   "cell_type": "code",
   "execution_count": null,
   "id": "86cb7429-7630-494c-afb1-821b5ab4aaeb",
   "metadata": {},
   "outputs": [],
   "source": []
  },
  {
   "cell_type": "code",
   "execution_count": null,
   "id": "1e4bd044-84ab-4f8f-850b-77be9dc71a2c",
   "metadata": {},
   "outputs": [],
   "source": []
  }
 ],
 "metadata": {
  "kernelspec": {
   "display_name": "Python 3 (ipykernel)",
   "language": "python",
   "name": "python3"
  },
  "language_info": {
   "codemirror_mode": {
    "name": "ipython",
    "version": 3
   },
   "file_extension": ".py",
   "mimetype": "text/x-python",
   "name": "python",
   "nbconvert_exporter": "python",
   "pygments_lexer": "ipython3",
   "version": "3.11.4"
  }
 },
 "nbformat": 4,
 "nbformat_minor": 5
}
