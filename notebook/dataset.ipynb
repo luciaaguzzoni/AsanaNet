{
 "cells": [
  {
   "cell_type": "markdown",
   "id": "b54fabed-9294-48a5-8ead-c9aaa7e69d05",
   "metadata": {},
   "source": [
    "### Libraries"
   ]
  },
  {
   "cell_type": "code",
   "execution_count": 4,
   "id": "82128c76-8bcb-4563-b7cb-60126076d258",
   "metadata": {},
   "outputs": [],
   "source": [
    "import pandas as pd\n",
    "import os"
   ]
  },
  {
   "cell_type": "code",
   "execution_count": null,
   "id": "dc02bea5-0ed2-4dc6-a35f-e522153d28d4",
   "metadata": {},
   "outputs": [],
   "source": []
  },
  {
   "cell_type": "markdown",
   "id": "43a4a7b1-05a2-4297-a952-3258a9fec78b",
   "metadata": {},
   "source": [
    "#### position names"
   ]
  },
  {
   "cell_type": "code",
   "execution_count": 5,
   "id": "0ac8904c-d3b2-4222-9636-06f2bf479a31",
   "metadata": {},
   "outputs": [],
   "source": [
    "def get_folders_in_directory(directory_path):\n",
    "    # Get the list of all files and folders in the specified directory\n",
    "    items = os.listdir(directory_path)\n",
    "    # Filter out only the folders from the list\n",
    "    folders = [item for item in items if os.path.isdir(os.path.join(directory_path, item))]\n",
    "    return folders"
   ]
  },
  {
   "cell_type": "code",
   "execution_count": 8,
   "id": "a2cbe207-aa14-477d-8566-6a0dc3835216",
   "metadata": {},
   "outputs": [],
   "source": [
    "base_dir = '../data/dataset'\n",
    "asana_names_list = get_folders_in_directory(base_dir)"
   ]
  },
  {
   "cell_type": "markdown",
   "id": "0aa50732-ca75-4a31-aeb8-6af1c581f120",
   "metadata": {},
   "source": [
    "per ogni asana name controlla se è nell'altro dataset e aggiungi nome in inglese"
   ]
  },
  {
   "cell_type": "code",
   "execution_count": null,
   "id": "540c0794-23c2-47e7-bd7c-384c3eeb1c8f",
   "metadata": {},
   "outputs": [],
   "source": []
  },
  {
   "cell_type": "code",
   "execution_count": 15,
   "id": "eef82ed1-0b80-413d-a4dd-6f9a5dd9f887",
   "metadata": {},
   "outputs": [
    {
     "data": {
      "text/html": [
       "<div>\n",
       "<style scoped>\n",
       "    .dataframe tbody tr th:only-of-type {\n",
       "        vertical-align: middle;\n",
       "    }\n",
       "\n",
       "    .dataframe tbody tr th {\n",
       "        vertical-align: top;\n",
       "    }\n",
       "\n",
       "    .dataframe thead th {\n",
       "        text-align: right;\n",
       "    }\n",
       "</style>\n",
       "<table border=\"1\" class=\"dataframe\">\n",
       "  <thead>\n",
       "    <tr style=\"text-align: right;\">\n",
       "      <th></th>\n",
       "      <th>AName</th>\n",
       "      <th>ENG</th>\n",
       "    </tr>\n",
       "  </thead>\n",
       "  <tbody>\n",
       "    <tr>\n",
       "      <th>0</th>\n",
       "      <td>advasana</td>\n",
       "      <td>reversed corpse pose</td>\n",
       "    </tr>\n",
       "    <tr>\n",
       "      <th>1</th>\n",
       "      <td>akarna dhanurasana</td>\n",
       "      <td>NaN</td>\n",
       "    </tr>\n",
       "    <tr>\n",
       "      <th>2</th>\n",
       "      <td>akashi mudra</td>\n",
       "      <td>awareness of inner space</td>\n",
       "    </tr>\n",
       "    <tr>\n",
       "      <th>3</th>\n",
       "      <td>ananda madirasana</td>\n",
       "      <td>NaN</td>\n",
       "    </tr>\n",
       "    <tr>\n",
       "      <th>4</th>\n",
       "      <td>ardha baddha padmottanasana</td>\n",
       "      <td>half lotus forward bending</td>\n",
       "    </tr>\n",
       "    <tr>\n",
       "      <th>...</th>\n",
       "      <td>...</td>\n",
       "      <td>...</td>\n",
       "    </tr>\n",
       "    <tr>\n",
       "      <th>221</th>\n",
       "      <td>vrischikasana</td>\n",
       "      <td>scorpion pose</td>\n",
       "    </tr>\n",
       "    <tr>\n",
       "      <th>222</th>\n",
       "      <td>vyaghrasana</td>\n",
       "      <td>NaN</td>\n",
       "    </tr>\n",
       "    <tr>\n",
       "      <th>223</th>\n",
       "      <td>yoga mudra</td>\n",
       "      <td>attitude of psychic union</td>\n",
       "    </tr>\n",
       "    <tr>\n",
       "      <th>224</th>\n",
       "      <td>yogamudrasana</td>\n",
       "      <td>psychic union pose</td>\n",
       "    </tr>\n",
       "    <tr>\n",
       "      <th>225</th>\n",
       "      <td>yoni mudra may also be performed by interlocki...</td>\n",
       "      <td>NaN</td>\n",
       "    </tr>\n",
       "  </tbody>\n",
       "</table>\n",
       "<p>226 rows × 2 columns</p>\n",
       "</div>"
      ],
      "text/plain": [
       "                                                 AName  \\\n",
       "0                                             advasana   \n",
       "1                                   akarna dhanurasana   \n",
       "2                                         akashi mudra   \n",
       "3                                    ananda madirasana   \n",
       "4                          ardha baddha padmottanasana   \n",
       "..                                                 ...   \n",
       "221                                      vrischikasana   \n",
       "222                                        vyaghrasana   \n",
       "223                                         yoga mudra   \n",
       "224                                      yogamudrasana   \n",
       "225  yoni mudra may also be performed by interlocki...   \n",
       "\n",
       "                            ENG  \n",
       "0          reversed corpse pose  \n",
       "1                           NaN  \n",
       "2      awareness of inner space  \n",
       "3                           NaN  \n",
       "4    half lotus forward bending  \n",
       "..                          ...  \n",
       "221               scorpion pose  \n",
       "222                         NaN  \n",
       "223   attitude of psychic union  \n",
       "224          psychic union pose  \n",
       "225                         NaN  \n",
       "\n",
       "[226 rows x 2 columns]"
      ]
     },
     "execution_count": 15,
     "metadata": {},
     "output_type": "execute_result"
    }
   ],
   "source": [
    "eng_names = pd.read_csv(\"../data/asana_names.csv\")\n",
    "eng_names"
   ]
  },
  {
   "cell_type": "code",
   "execution_count": null,
   "id": "485651c4-733f-40a6-abf7-3a3a8c0f0e98",
   "metadata": {},
   "outputs": [],
   "source": []
  },
  {
   "cell_type": "code",
   "execution_count": 20,
   "id": "05b89a04-28ea-4cac-9061-84e74382de32",
   "metadata": {},
   "outputs": [],
   "source": [
    "position_df = []\n",
    "for el in asana_names_list:\n",
    "    d = {}\n",
    "    d[\"Name\"] = el\n",
    "    if any(eng_names['AName'] == el):\n",
    "        d[\"Eng_Name\"]= eng_names.loc[eng_names['AName'] == el, 'ENG'].values[0]\n",
    "    position_df.append(d)"
   ]
  },
  {
   "cell_type": "code",
   "execution_count": 22,
   "id": "a92621e7-d9bc-48ed-91f7-ef93f14a3fb5",
   "metadata": {
    "scrolled": true
   },
   "outputs": [
    {
     "name": "stdout",
     "output_type": "stream",
     "text": [
      "<class 'pandas.core.frame.DataFrame'>\n",
      "RangeIndex: 106 entries, 0 to 105\n",
      "Data columns (total 2 columns):\n",
      " #   Column    Non-Null Count  Dtype \n",
      "---  ------    --------------  ----- \n",
      " 0   Name      106 non-null    object\n",
      " 1   Eng_Name  18 non-null     object\n",
      "dtypes: object(2)\n",
      "memory usage: 1.8+ KB\n"
     ]
    }
   ],
   "source": [
    "df = pd.DataFrame(position_df)\n",
    "df.info()"
   ]
  },
  {
   "cell_type": "code",
   "execution_count": null,
   "id": "1f02ca5e-7d1d-41f8-a540-e16097fb1514",
   "metadata": {},
   "outputs": [],
   "source": []
  },
  {
   "cell_type": "code",
   "execution_count": 23,
   "id": "f4417fbb-41ba-47e7-9bf8-346e528ad29f",
   "metadata": {},
   "outputs": [],
   "source": [
    "df.to_csv(\"../data/yoga_poses.csv\",index=False)"
   ]
  },
  {
   "cell_type": "code",
   "execution_count": null,
   "id": "237dce2c-c7b5-4e5e-8d92-e8937511252b",
   "metadata": {},
   "outputs": [],
   "source": []
  },
  {
   "cell_type": "code",
   "execution_count": null,
   "id": "467e974a-2fe9-4587-bf09-0a44e9f4eeda",
   "metadata": {},
   "outputs": [],
   "source": []
  },
  {
   "cell_type": "code",
   "execution_count": null,
   "id": "474cf8bb-ed36-4245-b857-822dfed8f6f8",
   "metadata": {},
   "outputs": [],
   "source": []
  }
 ],
 "metadata": {
  "kernelspec": {
   "display_name": "Python 3 (ipykernel)",
   "language": "python",
   "name": "python3"
  },
  "language_info": {
   "codemirror_mode": {
    "name": "ipython",
    "version": 3
   },
   "file_extension": ".py",
   "mimetype": "text/x-python",
   "name": "python",
   "nbconvert_exporter": "python",
   "pygments_lexer": "ipython3",
   "version": "3.11.4"
  }
 },
 "nbformat": 4,
 "nbformat_minor": 5
}
