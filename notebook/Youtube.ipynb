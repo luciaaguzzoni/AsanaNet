{
 "cells": [
  {
   "cell_type": "code",
   "execution_count": 13,
   "id": "e4ad6755",
   "metadata": {},
   "outputs": [],
   "source": [
    "from pytube import YouTube\n",
    "import cv2\n",
    "import time"
   ]
  },
  {
   "cell_type": "code",
   "execution_count": null,
   "id": "c25216b9",
   "metadata": {},
   "outputs": [],
   "source": []
  },
  {
   "cell_type": "code",
   "execution_count": 9,
   "id": "39582430",
   "metadata": {},
   "outputs": [],
   "source": [
    "# Replace 'video_url' with the URL of the YouTube video you want to download\n",
    "video_url = 'https://www.youtube.com/watch?v=ZOavX5qYRTQ&ab_channel=Hayden'\n",
    "yt = YouTube(video_url)\n",
    "\n",
    "# Get the highest resolution stream\n",
    "video_stream = yt.streams.get_highest_resolution()"
   ]
  },
  {
   "cell_type": "code",
   "execution_count": 10,
   "id": "b86ed051",
   "metadata": {},
   "outputs": [
    {
     "data": {
      "text/plain": [
       "'C:\\\\Users\\\\lucia\\\\Documents\\\\Ironhack\\\\projects\\\\final-project\\\\notebook\\\\../data/videos/save_bandit\\\\SAVE BANDIT.mp4'"
      ]
     },
     "execution_count": 10,
     "metadata": {},
     "output_type": "execute_result"
    }
   ],
   "source": [
    "# Download the video\n",
    "video_stream.download(output_path='../data/videos/save_bandit')"
   ]
  },
  {
   "cell_type": "code",
   "execution_count": 11,
   "id": "e22184b5",
   "metadata": {},
   "outputs": [],
   "source": [
    "video_path = '../data/videos/save_bandit/SAVE BANDIT.mp4'\n",
    "\n",
    "# Open the video file\n",
    "video_capture = cv2.VideoCapture(video_path)\n",
    "\n",
    "# Set the desired frame rate (frames per second)\n",
    "desired_frame_rate = 1  # 1 frame per second\n",
    "\n",
    "# Get the video's frames per second (fps)\n",
    "fps = video_capture.get(cv2.CAP_PROP_FPS)\n",
    "\n",
    "# Calculate the number of frames to skip based on the desired frame rate\n",
    "frames_to_skip = int(fps / desired_frame_rate)\n",
    "\n",
    "# Read and save frames\n",
    "success, image = video_capture.read()\n",
    "count = 0\n",
    "\n",
    "while success:\n",
    "    if count % frames_to_skip == 0:\n",
    "        # Save frame as JPEG file\n",
    "        cv2.imwrite(f'../data/videos/frame_{count // frames_to_skip}.jpg', image)\n",
    "\n",
    "    # Read the next frame\n",
    "    success, image = video_capture.read()\n",
    "    count += 1\n",
    "\n",
    "# Release the video capture object\n",
    "video_capture.release()"
   ]
  },
  {
   "cell_type": "code",
   "execution_count": null,
   "id": "c2e5f0e4",
   "metadata": {},
   "outputs": [],
   "source": []
  },
  {
   "cell_type": "code",
   "execution_count": null,
   "id": "cb6b63ae",
   "metadata": {},
   "outputs": [],
   "source": []
  },
  {
   "cell_type": "code",
   "execution_count": null,
   "id": "252993a6",
   "metadata": {},
   "outputs": [],
   "source": []
  },
  {
   "cell_type": "code",
   "execution_count": null,
   "id": "33077bfd",
   "metadata": {},
   "outputs": [],
   "source": []
  },
  {
   "cell_type": "code",
   "execution_count": 16,
   "id": "6bbfc8dc",
   "metadata": {},
   "outputs": [],
   "source": [
    "# all toghether -> calculate time for a 22 sec video\n",
    "\n",
    "start = time.time()\n",
    "# Replace 'video_url' with the URL of the YouTube video you want to download\n",
    "video_url = 'https://www.youtube.com/watch?v=ZOavX5qYRTQ&ab_channel=Hayden'\n",
    "yt = YouTube(video_url)\n",
    "\n",
    "# Get the highest resolution stream\n",
    "video_stream = yt.streams.get_highest_resolution()\n",
    "\n",
    "# Download the video\n",
    "video_stream.download(output_path='../data/videos/save_bandit')\n",
    "\n",
    "video_path = '../data/videos/save_bandit/SAVE BANDIT.mp4'\n",
    "\n",
    "# Open the video file\n",
    "video_capture = cv2.VideoCapture(video_path)\n",
    "\n",
    "# Set the desired frame rate (frames per second)\n",
    "desired_frame_rate = 1  # 1 frame per second\n",
    "\n",
    "# Get the video's frames per second (fps)\n",
    "fps = video_capture.get(cv2.CAP_PROP_FPS)\n",
    "\n",
    "# Calculate the number of frames to skip based on the desired frame rate\n",
    "frames_to_skip = int(fps / desired_frame_rate)\n",
    "\n",
    "# Read and save frames\n",
    "success, image = video_capture.read()\n",
    "count = 0\n",
    "\n",
    "while success:\n",
    "    if count % frames_to_skip == 0:\n",
    "        # Save frame as JPEG file\n",
    "        cv2.imwrite(f'../data/videos/save_bandit/frame_{count // frames_to_skip}.jpg', image)\n",
    "\n",
    "    # Read the next frame\n",
    "    success, image = video_capture.read()\n",
    "    count += 1\n",
    "\n",
    "# Release the video capture object\n",
    "video_capture.release()\n",
    "\n",
    "# delete video\n",
    "\n",
    "end = time.time()"
   ]
  },
  {
   "cell_type": "code",
   "execution_count": 17,
   "id": "6da2a228",
   "metadata": {},
   "outputs": [
    {
     "data": {
      "text/plain": [
       "6.009113311767578"
      ]
     },
     "execution_count": 17,
     "metadata": {},
     "output_type": "execute_result"
    }
   ],
   "source": [
    "end - start"
   ]
  },
  {
   "cell_type": "code",
   "execution_count": null,
   "id": "9f49928a",
   "metadata": {},
   "outputs": [],
   "source": []
  },
  {
   "cell_type": "code",
   "execution_count": null,
   "id": "edd289e3",
   "metadata": {},
   "outputs": [],
   "source": []
  },
  {
   "cell_type": "code",
   "execution_count": null,
   "id": "6d5224b5",
   "metadata": {},
   "outputs": [],
   "source": []
  },
  {
   "cell_type": "code",
   "execution_count": null,
   "id": "761f0d74",
   "metadata": {},
   "outputs": [],
   "source": []
  },
  {
   "cell_type": "code",
   "execution_count": null,
   "id": "633aa7e5",
   "metadata": {},
   "outputs": [],
   "source": []
  },
  {
   "cell_type": "code",
   "execution_count": null,
   "id": "7db1334a",
   "metadata": {},
   "outputs": [],
   "source": [
    "# make new folder for each video and than delete"
   ]
  },
  {
   "cell_type": "code",
   "execution_count": null,
   "id": "bd546fff",
   "metadata": {},
   "outputs": [],
   "source": []
  },
  {
   "cell_type": "code",
   "execution_count": null,
   "id": "2c6a5ff3",
   "metadata": {},
   "outputs": [],
   "source": []
  },
  {
   "cell_type": "code",
   "execution_count": null,
   "id": "e2d505d4",
   "metadata": {},
   "outputs": [],
   "source": []
  },
  {
   "cell_type": "code",
   "execution_count": null,
   "id": "f32791d3",
   "metadata": {},
   "outputs": [],
   "source": []
  },
  {
   "cell_type": "code",
   "execution_count": null,
   "id": "62465c30",
   "metadata": {},
   "outputs": [],
   "source": []
  }
 ],
 "metadata": {
  "kernelspec": {
   "display_name": "ironhack",
   "language": "python",
   "name": "ironhack"
  },
  "language_info": {
   "codemirror_mode": {
    "name": "ipython",
    "version": 3
   },
   "file_extension": ".py",
   "mimetype": "text/x-python",
   "name": "python",
   "nbconvert_exporter": "python",
   "pygments_lexer": "ipython3",
   "version": "3.11.5"
  }
 },
 "nbformat": 4,
 "nbformat_minor": 5
}
