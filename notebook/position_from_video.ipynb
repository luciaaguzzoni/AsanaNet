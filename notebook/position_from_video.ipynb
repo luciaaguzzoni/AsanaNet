{
 "cells": [
  {
   "cell_type": "code",
   "execution_count": 1,
   "id": "46ef6030-f31d-4aed-b80a-7227f0e2e16d",
   "metadata": {},
   "outputs": [],
   "source": [
    "import cv2\n",
    "import pickle\n",
    "import numpy as np\n",
    "import pandas as pd\n",
    "import time\n",
    "import matplotlib.pyplot as plt"
   ]
  },
  {
   "cell_type": "code",
   "execution_count": 2,
   "id": "a1adc9cb-e9f3-492b-aea1-df123d1e0f60",
   "metadata": {},
   "outputs": [],
   "source": [
    "img_height = 100\n",
    "img_width = 100"
   ]
  },
  {
   "cell_type": "code",
   "execution_count": 3,
   "id": "c29bc5f6-815d-41cc-9e3a-b823df1bfc98",
   "metadata": {},
   "outputs": [],
   "source": [
    "legend = pd.read_csv(\"../data/yoga_poses.csv\")\n",
    "legend_dict = legend[\"Name\"].to_dict()"
   ]
  },
  {
   "cell_type": "code",
   "execution_count": 4,
   "id": "648c6bf2-0dc4-4d63-b18c-6ff20afb14a7",
   "metadata": {},
   "outputs": [],
   "source": [
    "def resize_without_squeezing(image, target_size):\n",
    "    h, w = image.shape[:2]\n",
    "    aspect_ratio = w / h\n",
    "\n",
    "    # Calculate new size while preserving aspect ratio\n",
    "    if aspect_ratio > 1:\n",
    "        new_w = target_size\n",
    "        new_h = int(target_size / aspect_ratio)\n",
    "    else:\n",
    "        new_h = target_size\n",
    "        new_w = int(target_size * aspect_ratio)\n",
    "\n",
    "    # Resize the image\n",
    "    resized_img = cv2.resize(image, (new_w, new_h))\n",
    "\n",
    "    # Create a canvas with the target size and fill with padding color\n",
    "    canvas = np.full((target_size, target_size, 3), (255,255,255), dtype=np.uint8)\n",
    "\n",
    "    # Calculate the position to paste the resized image in the center\n",
    "    y_offset = (target_size - new_h) // 2\n",
    "    x_offset = (target_size - new_w) // 2\n",
    "\n",
    "    # Paste the resized image onto the canvas\n",
    "    canvas[y_offset:y_offset + new_h, x_offset:x_offset + new_w] = resized_img\n",
    "\n",
    "    return canvas"
   ]
  },
  {
   "cell_type": "code",
   "execution_count": 5,
   "id": "e7ae3798-beb6-4a25-8184-4fcd85405b6c",
   "metadata": {},
   "outputs": [],
   "source": [
    "# Open a video capture object\n",
    "path = \"../videos/pati.mov\"\n",
    "cap = cv2.VideoCapture(path)  # Use 0 for default camera or specify the video file path"
   ]
  },
  {
   "cell_type": "code",
   "execution_count": 9,
   "id": "cce319cf-0126-4ed9-9c74-1bd32c692cd6",
   "metadata": {},
   "outputs": [
    {
     "name": "stdout",
     "output_type": "stream",
     "text": [
      "WARNING:tensorflow:Detecting that an object or model or tf.train.Checkpoint is being deleted with unrestored values. See the following logs for the specific values in question. To silence these warnings, use `status.expect_partial()`. See https://www.tensorflow.org/api_docs/python/tf/train/Checkpoint#restorefor details about the status object returned by the restore function.\n",
      "WARNING:tensorflow:Value in checkpoint could not be found in the restored object: (root).keras_api.metrics.0.total\n",
      "WARNING:tensorflow:Value in checkpoint could not be found in the restored object: (root).keras_api.metrics.0.count\n",
      "WARNING:tensorflow:Value in checkpoint could not be found in the restored object: (root).keras_api.metrics.1.total\n",
      "WARNING:tensorflow:Value in checkpoint could not be found in the restored object: (root).keras_api.metrics.1.count\n",
      "1/1 [==============================] - 2s 2s/step\n",
      "1/1 [==============================] - 0s 54ms/step\n"
     ]
    },
    {
     "ename": "TypeError",
     "evalue": "type numpy.ndarray doesn't define __round__ method",
     "output_type": "error",
     "traceback": [
      "\u001b[1;31m---------------------------------------------------------------------------\u001b[0m",
      "\u001b[1;31mTypeError\u001b[0m                                 Traceback (most recent call last)",
      "Cell \u001b[1;32mIn[9], line 20\u001b[0m\n\u001b[0;32m     18\u001b[0m \u001b[38;5;66;03m# Your image processing and classification code goes here\u001b[39;00m\n\u001b[0;32m     19\u001b[0m label \u001b[38;5;241m=\u001b[39m np\u001b[38;5;241m.\u001b[39margmax(model\u001b[38;5;241m.\u001b[39mpredict(img_np), axis\u001b[38;5;241m=\u001b[39m\u001b[38;5;241m1\u001b[39m)\n\u001b[1;32m---> 20\u001b[0m probability \u001b[38;5;241m=\u001b[39m \u001b[38;5;28mround\u001b[39m(np\u001b[38;5;241m.\u001b[39mamax(model\u001b[38;5;241m.\u001b[39mpredict(img_np), axis\u001b[38;5;241m=\u001b[39m\u001b[38;5;241m1\u001b[39m),\u001b[38;5;241m2\u001b[39m)\n\u001b[0;32m     21\u001b[0m \u001b[38;5;66;03m#prob = round(max(probability[0]), 2)\u001b[39;00m\n\u001b[0;32m     22\u001b[0m \u001b[38;5;28;01mtry\u001b[39;00m:\n",
      "\u001b[1;31mTypeError\u001b[0m: type numpy.ndarray doesn't define __round__ method"
     ]
    }
   ],
   "source": [
    "tmp = ''\n",
    "model_file = '../models/dn2_1.pkl'\n",
    "with open(model_file, 'rb') as f:\n",
    "    model = pickle.load(f)\n",
    "\n",
    "start_time = time.time()\n",
    "\n",
    "while True: \n",
    "    # Read a frame from the video source\n",
    "    ret, frame = cap.read()\n",
    "    end_time = time.time()\n",
    "    if end_time - start_time > 1:    \n",
    "        #ret, frame = cap.read()\n",
    "        img = cv2.cvtColor(frame, cv2.COLOR_BGR2RGB)  # Convert to RGB\n",
    "        img = resize_without_squeezing(img,img_height)\n",
    "        img_np = np.array([img])/255  \n",
    "    \n",
    "        # Your image processing and classification code goes here\n",
    "        label = np.argmax(model.predict(img_np), axis=1)\n",
    "        probability = round(np.amax(model.predict(img_np), axis=1),2)\n",
    "        #prob = round(max(probability[0]), 2)\n",
    "        try:\n",
    "            new_pose = legend_dict[label[0]]\n",
    "            if new_pose!=tmp:\n",
    "                tmp=new_pose\n",
    "                print(f\"Position: {new_pose}, p= {probability}\")  \n",
    "                plt.imshow(img)\n",
    "                plt.show()\n",
    "        except KeyError:\n",
    "            print(f\"Key Error: {label[0]}\")\n",
    "\n",
    "        start_time = time.time()\n",
    "    \n",
    "    # Break the loop if 'q' key is pressed\n",
    "    if cv2.waitKey(1) & 0xFF == ord('q'):\n",
    "        break\n",
    "        \n",
    "        \n",
    "# Release the video capture object and close windows\n",
    "cap.release()\n",
    "cv2.destroyAllWindows()"
   ]
  },
  {
   "cell_type": "code",
   "execution_count": null,
   "id": "51a4adfd-9dd8-41d5-bfd1-a45f13427dad",
   "metadata": {},
   "outputs": [],
   "source": []
  },
  {
   "cell_type": "code",
   "execution_count": null,
   "id": "17a6488c-f037-4674-a2a0-a5a012027ddb",
   "metadata": {},
   "outputs": [],
   "source": []
  },
  {
   "cell_type": "code",
   "execution_count": null,
   "id": "a0990100-d423-46a3-ae34-1f06fdcf5f2d",
   "metadata": {},
   "outputs": [],
   "source": []
  },
  {
   "cell_type": "code",
   "execution_count": null,
   "id": "1b030699-65f3-4025-a8e7-10bed6598576",
   "metadata": {},
   "outputs": [],
   "source": []
  },
  {
   "cell_type": "code",
   "execution_count": null,
   "id": "fa822b92-54df-4dbc-a7b8-5d7ceab8455f",
   "metadata": {},
   "outputs": [],
   "source": []
  },
  {
   "cell_type": "code",
   "execution_count": null,
   "id": "4f55039e-00ce-4045-9966-6133c057373d",
   "metadata": {},
   "outputs": [],
   "source": []
  },
  {
   "cell_type": "code",
   "execution_count": null,
   "id": "48b004a8-1cdf-47b0-b1d1-f5cefd65a1b2",
   "metadata": {},
   "outputs": [],
   "source": []
  },
  {
   "cell_type": "code",
   "execution_count": null,
   "id": "548e71a2-8437-48cb-8b9a-9c6894e30096",
   "metadata": {},
   "outputs": [],
   "source": []
  },
  {
   "cell_type": "code",
   "execution_count": null,
   "id": "456e6054-fe02-445b-a00d-c5681225c63f",
   "metadata": {},
   "outputs": [],
   "source": []
  }
 ],
 "metadata": {
  "kernelspec": {
   "display_name": "Python 3 (ipykernel)",
   "language": "python",
   "name": "python3"
  },
  "language_info": {
   "codemirror_mode": {
    "name": "ipython",
    "version": 3
   },
   "file_extension": ".py",
   "mimetype": "text/x-python",
   "name": "python",
   "nbconvert_exporter": "python",
   "pygments_lexer": "ipython3",
   "version": "3.11.4"
  }
 },
 "nbformat": 4,
 "nbformat_minor": 5
}
