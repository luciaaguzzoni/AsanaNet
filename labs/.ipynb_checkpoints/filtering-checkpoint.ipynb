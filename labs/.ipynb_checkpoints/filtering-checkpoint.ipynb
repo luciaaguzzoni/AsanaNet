{
 "cells": [
  {
   "cell_type": "code",
   "execution_count": 1,
   "id": "a5150fa7",
   "metadata": {},
   "outputs": [],
   "source": [
    "import pandas as pd\n",
    "import numpy as np\n",
    "import os"
   ]
  },
  {
   "cell_type": "code",
   "execution_count": 2,
   "id": "6417daf2",
   "metadata": {},
   "outputs": [],
   "source": [
    "def profit_per_customer(name):\n",
    "    dataset = pd.read_csv(\"../Documents/Ironhack/bootcamp/lectures/datasets/superstore.csv\")\n",
    "    df = pd.DataFrame(dataset)\n",
    "    df.columns = [i.lower().replace(\" \",\"_\") for i in df.columns]\n",
    "    client_df = df[df[\"customer_name\"]==name]\n",
    "    client_profit = sum(list(client_df[\"profit\"]))\n",
    "    print(f\"{name} amounted a total profit of {client_profit} $\")\n",
    "    client_df.to_csv(f\"./{name}_example.csv\")\n",
    "    return client_df"
   ]
  },
  {
   "cell_type": "code",
   "execution_count": null,
   "id": "bf513be5",
   "metadata": {},
   "outputs": [],
   "source": [
    "profit_per_customer(\"Erica Smith\")"
   ]
  }
 ],
 "metadata": {
  "kernelspec": {
   "display_name": "ironhack",
   "language": "python",
   "name": "ironhack"
  },
  "language_info": {
   "codemirror_mode": {
    "name": "ipython",
    "version": 3
   },
   "file_extension": ".py",
   "mimetype": "text/x-python",
   "name": "python",
   "nbconvert_exporter": "python",
   "pygments_lexer": "ipython3",
   "version": "3.11.5"
  }
 },
 "nbformat": 4,
 "nbformat_minor": 5
}
